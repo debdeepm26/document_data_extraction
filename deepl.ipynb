{
 "cells": [
  {
   "cell_type": "code",
   "execution_count": 1,
   "metadata": {},
   "outputs": [
    {
     "name": "stderr",
     "output_type": "stream",
     "text": [
      "C:\\Users\\user\\Anaconda3\\lib\\site-packages\\h5py\\__init__.py:36: FutureWarning: Conversion of the second argument of issubdtype from `float` to `np.floating` is deprecated. In future, it will be treated as `np.float64 == np.dtype(float).type`.\n",
      "  from ._conv import register_converters as _register_converters\n",
      "Using TensorFlow backend.\n"
     ]
    }
   ],
   "source": [
    "import numpy as np\n",
    "import pandas as pd\n",
    "import os\n",
    "import time\n",
    "from sklearn import model_selection\n",
    "from sklearn.preprocessing import StandardScaler\n",
    "from sklearn.metrics import accuracy_score\n",
    "from sklearn.metrics import confusion_matrix\n",
    "from imblearn.over_sampling import ADASYN\n",
    "\n",
    "from keras.preprocessing.text import Tokenizer\n",
    "from keras.preprocessing.sequence import pad_sequences\n",
    "from keras.utils.np_utils import to_categorical\n",
    "\n",
    "from keras.layers import Embedding\n",
    "from keras.layers import Dense, Input\n",
    "from keras.layers import Conv1D, MaxPooling1D, Embedding, Dropout, LSTM, Bidirectional, Flatten\n",
    "from keras.models import Sequential\n",
    "from keras.models import model_from_json\n",
    "\n",
    "from keras import backend as K\n",
    "from keras.engine.topology import Layer, InputSpec\n",
    "from keras import initializers\n",
    "\n",
    "os.environ['TF_CPP_MIN_LOG_LEVEL'] = '3' "
   ]
  },
  {
   "cell_type": "code",
   "execution_count": 2,
   "metadata": {},
   "outputs": [],
   "source": [
    "dataset = pd.read_csv(\"C:/Users/user/PythonProjects/document-data-extraction/data-extraction/training/train3_dv_lm_iv.csv\",header=None)\n",
    "n=len(dataset.columns)-1"
   ]
  },
  {
   "cell_type": "code",
   "execution_count": 3,
   "metadata": {},
   "outputs": [],
   "source": [
    "X = dataset.iloc[:,0:n]\n",
    "Y = dataset.iloc[:,n].values\n",
    "X, Y = ADASYN().fit_sample(X, Y)"
   ]
  },
  {
   "cell_type": "code",
   "execution_count": 5,
   "metadata": {},
   "outputs": [
    {
     "name": "stdout",
     "output_type": "stream",
     "text": [
      "[641, 627, 616, 623, 642]\n"
     ]
    }
   ],
   "source": [
    "Y1=[]\n",
    "i=[0,0,0,0,0]\n",
    "for y in Y:\n",
    "    if(y=='AIMX'):\n",
    "        Y1.append(0)\n",
    "        i[0]=i[0]+1\n",
    "    if(y=='BASE'):\n",
    "        Y1.append(1)\n",
    "        i[1]=i[1]+1\n",
    "    if(y=='CONT'):\n",
    "        Y1.append(2)\n",
    "        i[2]=i[2]+1\n",
    "    if(y=='MISC'):\n",
    "        Y1.append(3)\n",
    "        i[3]=i[3]+1\n",
    "    if(y=='OWNX'):\n",
    "        Y1.append(4)\n",
    "        i[4]=i[4]+1\n",
    "print(i)"
   ]
  },
  {
   "cell_type": "code",
   "execution_count": 5,
   "metadata": {},
   "outputs": [
    {
     "name": "stdout",
     "output_type": "stream",
     "text": [
      "Training size: 1889\n",
      "Testing size: 1260\n"
     ]
    }
   ],
   "source": [
    "x_train, x_test, y_train, y_test = model_selection.train_test_split(X, Y1, test_size = 0.40, random_state = 8)\n",
    "print(\"Training size:\", x_train.shape[0])\n",
    "print(\"Testing size:\", x_test.shape[0])\n",
    "sc = StandardScaler()\n",
    "x_train = sc.fit_transform(x_train)\n",
    "x_test = sc.transform(x_test)"
   ]
  },
  {
   "cell_type": "code",
   "execution_count": 6,
   "metadata": {},
   "outputs": [],
   "source": [
    "x_train1=np.reshape(x_train,(x_train.shape[0],x_train.shape[1],1))\n",
    "x_test1=np.reshape(x_test,(x_test.shape[0],x_test.shape[1],1))\n",
    "y_train1 = to_categorical(y_train)\n",
    "y_test1 = to_categorical(y_test)"
   ]
  },
  {
   "cell_type": "code",
   "execution_count": 7,
   "metadata": {},
   "outputs": [
    {
     "name": "stdout",
     "output_type": "stream",
     "text": [
      "_________________________________________________________________\n",
      "Layer (type)                 Output Shape              Param #   \n",
      "=================================================================\n",
      "bidirectional_1 (Bidirection (None, 384, 200)          81600     \n",
      "_________________________________________________________________\n",
      "dropout_1 (Dropout)          (None, 384, 200)          0         \n",
      "_________________________________________________________________\n",
      "bidirectional_2 (Bidirection (None, 384, 200)          240800    \n",
      "_________________________________________________________________\n",
      "dropout_2 (Dropout)          (None, 384, 200)          0         \n",
      "_________________________________________________________________\n",
      "conv1d_1 (Conv1D)            (None, 335, 100)          1000100   \n",
      "_________________________________________________________________\n",
      "max_pooling1d_1 (MaxPooling1 (None, 67, 100)           0         \n",
      "_________________________________________________________________\n",
      "flatten_1 (Flatten)          (None, 6700)              0         \n",
      "_________________________________________________________________\n",
      "dense_1 (Dense)              (None, 5)                 33505     \n",
      "=================================================================\n",
      "Total params: 1,356,005\n",
      "Trainable params: 1,356,005\n",
      "Non-trainable params: 0\n",
      "_________________________________________________________________\n"
     ]
    }
   ],
   "source": [
    "model=Sequential()\n",
    "model.add(Bidirectional(LSTM(100, return_sequences=True), input_shape=(x_train.shape[1],1)))\n",
    "model.add(Dropout(0.2))\n",
    "model.add(Bidirectional(LSTM(100, return_sequences=True)))\n",
    "model.add(Dropout(0.3))\n",
    "model.add(Conv1D(100, 50, activation='relu'))\n",
    "model.add(MaxPooling1D(pool_size=5))\n",
    "model.add(Flatten())\n",
    "model.add(Dense(5, activation='softmax'))\n",
    "model.compile(loss='categorical_crossentropy',optimizer='adam',metrics=['acc'])\n",
    "model.summary()          "
   ]
  },
  {
   "cell_type": "code",
   "execution_count": 68,
   "metadata": {},
   "outputs": [
    {
     "name": "stdout",
     "output_type": "stream",
     "text": [
      "Train on 1889 samples, validate on 1260 samples\n",
      "Epoch 1/10\n",
      "1889/1889 [==============================] - 56s 30ms/step - loss: 1.5169 - acc: 0.2880 - val_loss: 1.4633 - val_acc: 0.3833\n",
      "Epoch 2/10\n",
      "1889/1889 [==============================] - 53s 28ms/step - loss: 1.3203 - acc: 0.4203 - val_loss: 1.2893 - val_acc: 0.4730\n",
      "Epoch 3/10\n",
      "1889/1889 [==============================] - 53s 28ms/step - loss: 1.1473 - acc: 0.5013 - val_loss: 1.1203 - val_acc: 0.5341\n",
      "Epoch 4/10\n",
      "1889/1889 [==============================] - 52s 28ms/step - loss: 1.0277 - acc: 0.5691 - val_loss: 1.0592 - val_acc: 0.5706\n",
      "Epoch 5/10\n",
      "1889/1889 [==============================] - 52s 27ms/step - loss: 0.9209 - acc: 0.6368 - val_loss: 1.0030 - val_acc: 0.5921\n",
      "Epoch 6/10\n",
      "1889/1889 [==============================] - 52s 28ms/step - loss: 0.8499 - acc: 0.6713 - val_loss: 1.0135 - val_acc: 0.6190\n",
      "Epoch 7/10\n",
      "1889/1889 [==============================] - 53s 28ms/step - loss: 0.8117 - acc: 0.6660 - val_loss: 0.8904 - val_acc: 0.6563\n",
      "Epoch 8/10\n",
      "1889/1889 [==============================] - 52s 27ms/step - loss: 0.6944 - acc: 0.7374 - val_loss: 0.8675 - val_acc: 0.6849\n",
      "Epoch 9/10\n",
      "1889/1889 [==============================] - 53s 28ms/step - loss: 0.7147 - acc: 0.7237 - val_loss: 0.8936 - val_acc: 0.6722\n",
      "Epoch 10/10\n",
      "1889/1889 [==============================] - 51s 27ms/step - loss: 0.6625 - acc: 0.7544 - val_loss: 0.8157 - val_acc: 0.7024\n"
     ]
    },
    {
     "data": {
      "text/plain": [
       "<keras.callbacks.History at 0x1691dd94c18>"
      ]
     },
     "execution_count": 68,
     "metadata": {},
     "output_type": "execute_result"
    }
   ],
   "source": [
    "start_time = time.time()\n",
    "model.fit(x_train1, y_train1, validation_data=(x_test1, y_test1),epochs=10, batch_size=100)\n",
    "print(\"Total time to train:\",(time.time() - start_time))"
   ]
  },
  {
   "cell_type": "markdown",
   "metadata": {},
   "source": [
    "Save Model"
   ]
  },
  {
   "cell_type": "code",
   "execution_count": 1,
   "metadata": {},
   "outputs": [
    {
     "name": "stdout",
     "output_type": "stream",
     "text": [
      "Saved model to disk\n"
     ]
    }
   ],
   "source": [
    "model_json = model.to_json()\n",
    "with open(\"model.json\", \"w\") as json_file:\n",
    "    json_file.write(model_json)\n",
    "model.save_weights(\"model.h5\")\n",
    "print(\"Saved model to disk\")"
   ]
  },
  {
   "cell_type": "markdown",
   "metadata": {},
   "source": [
    "Load Model"
   ]
  },
  {
   "cell_type": "code",
   "execution_count": 21,
   "metadata": {},
   "outputs": [
    {
     "name": "stdout",
     "output_type": "stream",
     "text": [
      "Loaded model from disk\n"
     ]
    }
   ],
   "source": [
    "model_json = model.to_json()\n",
    "json_file = open('model.json', 'r')\n",
    "loaded_model_json = json_file.read()\n",
    "json_file.close()\n",
    "model = model_from_json(loaded_model_json)\n",
    "model.load_weights(\"model.h5\")\n",
    "print(\"Loaded model from disk\")"
   ]
  },
  {
   "cell_type": "code",
   "execution_count": 22,
   "metadata": {},
   "outputs": [],
   "source": [
    "y_pred1 = model.predict(x_test1)\n",
    "y_pred=np.argmax(y_pred1,axis=1)"
   ]
  },
  {
   "cell_type": "code",
   "execution_count": 23,
   "metadata": {},
   "outputs": [
    {
     "name": "stdout",
     "output_type": "stream",
     "text": [
      "[[232   0   0  12   8]\n",
      " [  0 259   0   0   0]\n",
      " [  0   0 240   5   4]\n",
      " [  6   2   2 176  73]\n",
      " [  4   6   1  76 154]]\n"
     ]
    }
   ],
   "source": [
    "conf_mat = confusion_matrix(y_test, y_pred)\n",
    "print(conf_mat)"
   ]
  },
  {
   "cell_type": "code",
   "execution_count": 24,
   "metadata": {},
   "outputs": [
    {
     "name": "stdout",
     "output_type": "stream",
     "text": [
      "84.2063492063492 %\n"
     ]
    }
   ],
   "source": [
    "accuracy=accuracy_score(y_pred,y_test)\n",
    "print(accuracy*100,'%')"
   ]
  },
  {
   "cell_type": "code",
   "execution_count": null,
   "metadata": {},
   "outputs": [],
   "source": []
  }
 ],
 "metadata": {
  "kernelspec": {
   "display_name": "Python 3",
   "language": "python",
   "name": "python3"
  },
  "language_info": {
   "codemirror_mode": {
    "name": "ipython",
    "version": 3
   },
   "file_extension": ".py",
   "mimetype": "text/x-python",
   "name": "python",
   "nbconvert_exporter": "python",
   "pygments_lexer": "ipython3",
   "version": "3.6.4"
  }
 },
 "nbformat": 4,
 "nbformat_minor": 2
}
