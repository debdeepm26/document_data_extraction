{
 "cells": [
  {
   "cell_type": "code",
   "execution_count": null,
   "metadata": {},
   "outputs": [],
   "source": [
    "import spacy\n",
    "import re\n",
    "import csv\n",
    "nlp = spacy.load('en_core_web_sm')"
   ]
  },
  {
   "cell_type": "markdown",
   "metadata": {},
   "source": [
    "Complete sentence vector from spacy"
   ]
  },
  {
   "cell_type": "code",
   "execution_count": null,
   "metadata": {},
   "outputs": [],
   "source": [
    "myFile = open('C:/Users/user/PythonProjects/document-data-extraction/data-extraction/testing/test_jdm_wv.csv', 'w', newline='')\n",
    "train_test=open(\"C:/Users/user/PythonProjects/document-data-extraction/data-extraction/testing/test_jdm.txt\",\"r\") \n",
    "for line in train_test:\n",
    "    sentence=nlp(line) \n",
    "    c = []\n",
    "    for i in range (0,384):\n",
    "        c.insert(i,sentence.vector[i])\n",
    "    writer = csv.writer(myFile)\n",
    "    writer.writerow(map(lambda x: x,c))\n",
    "z = csv.reader(myFile, delimiter='\\t')\n",
    "myFile.close()\n",
    "train_test.close()\n",
    "print(\"writing complete\")"
   ]
  },
  {
   "cell_type": "markdown",
   "metadata": {},
   "source": [
    "Complete sentence vector from spacy but averaged over all the words"
   ]
  },
  {
   "cell_type": "code",
   "execution_count": null,
   "metadata": {},
   "outputs": [],
   "source": [
    "sum = [0]*384\n",
    "myFile = open('C:/Users/user/PythonProjects/document-data-extraction/data-extraction/testing/test_jdm_wv_wsm.csv', 'w', newline='') \n",
    "train_test=open(\"C:/Users/user/PythonProjects/document-data-extraction/data-extraction/testing/test_jdm.txt\",\"r\") \n",
    "for line in train_test:\n",
    "    sentence=nlp(line)\n",
    "    n=len(sentence)\n",
    "    for i in range (0,n):\n",
    "        sum=sum+sentence[i].vector\n",
    "    c=[]\n",
    "    for i in range (0,384):\n",
    "        c.insert(i,sum[i])\n",
    "    writer = csv.writer(myFile)\n",
    "    writer.writerow(map(lambda x: x,c))\n",
    "z = csv.reader(myFile, delimiter='\\t')\n",
    "myFile.close()\n",
    "print(\"writing complete\")"
   ]
  }
 ],
 "metadata": {
  "kernelspec": {
   "display_name": "Python 3",
   "language": "python",
   "name": "python3"
  },
  "language_info": {
   "codemirror_mode": {
    "name": "ipython",
    "version": 3
   },
   "file_extension": ".py",
   "mimetype": "text/x-python",
   "name": "python",
   "nbconvert_exporter": "python",
   "pygments_lexer": "ipython3",
   "version": "3.6.4"
  }
 },
 "nbformat": 4,
 "nbformat_minor": 2
}
