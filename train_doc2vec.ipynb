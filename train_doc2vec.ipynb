{
 "cells": [
  {
   "cell_type": "code",
   "execution_count": 1,
   "metadata": {},
   "outputs": [
    {
     "name": "stderr",
     "output_type": "stream",
     "text": [
      "C:\\Users\\user\\Anaconda3\\lib\\site-packages\\gensim\\utils.py:1197: UserWarning: detected Windows; aliasing chunkize to chunkize_serial\n",
      "  warnings.warn(\"detected Windows; aliasing chunkize to chunkize_serial\")\n"
     ]
    }
   ],
   "source": [
    "from gensim.models.doc2vec import Doc2Vec, TaggedDocument\n",
    "from nltk.tokenize import word_tokenize\n",
    "import multiprocessing\n",
    "import gensim.models.doc2vec\n",
    "import csv"
   ]
  },
  {
   "cell_type": "code",
   "execution_count": 2,
   "metadata": {},
   "outputs": [
    {
     "name": "stdout",
     "output_type": "stream",
     "text": [
      "cores present: 8\n"
     ]
    }
   ],
   "source": [
    "cores = multiprocessing.cpu_count()\n",
    "print(\"cores present:\",cores)\n",
    "assert gensim.models.doc2vec.FAST_VERSION > -1"
   ]
  },
  {
   "cell_type": "code",
   "execution_count": 3,
   "metadata": {},
   "outputs": [],
   "source": [
    "document=open('C:/Users/user/PythonProjects/document-data-extraction/data-extraction/training/train2.txt')\n",
    "lines = document.readlines()"
   ]
  },
  {
   "cell_type": "code",
   "execution_count": 5,
   "metadata": {},
   "outputs": [],
   "source": [
    "text=[]\n",
    "label=[]\n",
    "for line in lines:\n",
    "    line=line.strip('\\n')\n",
    "    line=line.split('\\t')\n",
    "    label.append(line[0])\n",
    "    text.append(line[1])"
   ]
  },
  {
   "cell_type": "code",
   "execution_count": 25,
   "metadata": {},
   "outputs": [],
   "source": [
    "tagged_data = [TaggedDocument(words=word_tokenize(line.lower()), tags=[i+1]) for i, line in enumerate(text)]\n",
    "max_epochs = 100\n",
    "vec_size = 384\n",
    "alpha = 0.025\n",
    "n=len(tagged_data)+1"
   ]
  },
  {
   "cell_type": "code",
   "execution_count": 6,
   "metadata": {},
   "outputs": [],
   "source": [
    "model = Doc2Vec(vector_size=vec_size, window=8, alpha=alpha, negative=5, min_alpha=0.025, min_count=1, dm=1, dm_concat=1, workers=cores)\n",
    "model.build_vocab(tagged_data)"
   ]
  },
  {
   "cell_type": "code",
   "execution_count": 7,
   "metadata": {},
   "outputs": [
    {
     "name": "stderr",
     "output_type": "stream",
     "text": [
      "C:\\Users\\user\\Anaconda3\\lib\\site-packages\\ipykernel_launcher.py:3: DeprecationWarning: Call to deprecated `iter` (Attribute will be removed in 4.0.0, use self.epochs instead).\n",
      "  This is separate from the ipykernel package so we can avoid doing imports until\n"
     ]
    }
   ],
   "source": [
    "for epoch in range(max_epochs):\n",
    "    model.train(tagged_data, total_examples=model.corpus_count, epochs=model.iter)\n",
    "    model.alpha -= 0.0002\n",
    "    model.min_alpha = model.alpha\n",
    "model.save(\"d2v_3.model\")"
   ]
  },
  {
   "cell_type": "code",
   "execution_count": 8,
   "metadata": {},
   "outputs": [
    {
     "name": "stdout",
     "output_type": "stream",
     "text": [
      "384 1024\n",
      "writing complete\n"
     ]
    }
   ],
   "source": [
    "file='C:/Users/user/PythonProjects/document-data-extraction/data-extraction/training/train2_dv_lm_iv.csv'\n",
    "myFile = open(file, 'w', newline='')\n",
    "model= Doc2Vec.load(\"d2v_3_lm.model\")\n",
    "m=len(model.docvecs[0])\n",
    "n=len(text)\n",
    "print(m,n)\n",
    "for j in range (0,n):\n",
    "    line=text[j].split()\n",
    "    v1 = model.infer_vector(line)\n",
    "    c=[]\n",
    "    for i in range (0,m):\n",
    "        c.insert(i,v1[i])\n",
    "    c.insert(n,label[j])\n",
    "    writer = csv.writer(myFile)\n",
    "    writer.writerow(map(lambda x: x,c))\n",
    "z = csv.reader(myFile, delimiter='\\t')\n",
    "myFile.close()\n",
    "myFile = open(file, 'r')\n",
    "myFile.close()\n",
    "print(\"writing complete\")"
   ]
  },
  {
   "cell_type": "code",
   "execution_count": null,
   "metadata": {},
   "outputs": [],
   "source": [
    "   "
   ]
  }
 ],
 "metadata": {
  "kernelspec": {
   "display_name": "Python 3",
   "language": "python",
   "name": "python3"
  },
  "language_info": {
   "codemirror_mode": {
    "name": "ipython",
    "version": 3
   },
   "file_extension": ".py",
   "mimetype": "text/x-python",
   "name": "python",
   "nbconvert_exporter": "python",
   "pygments_lexer": "ipython3",
   "version": "3.6.4"
  }
 },
 "nbformat": 4,
 "nbformat_minor": 2
}
