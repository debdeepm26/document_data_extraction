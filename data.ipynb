{
 "cells": [
  {
   "cell_type": "code",
   "execution_count": 1,
   "metadata": {},
   "outputs": [],
   "source": [
    "import glob"
   ]
  },
  {
   "cell_type": "markdown",
   "metadata": {},
   "source": [
    "For training data"
   ]
  },
  {
   "cell_type": "code",
   "execution_count": 6,
   "metadata": {},
   "outputs": [
    {
     "name": "stdout",
     "output_type": "stream",
     "text": [
      "['C:/Users/user/PythonProjects/document-data-extraction/data-extraction/data/training/data_label3\\\\arxiv_annotate10_7_3.txt', 'C:/Users/user/PythonProjects/document-data-extraction/data-extraction/data/training/data_label3\\\\arxiv_annotate1_13_3.txt', 'C:/Users/user/PythonProjects/document-data-extraction/data-extraction/data/training/data_label3\\\\arxiv_annotate2_66_3.txt', 'C:/Users/user/PythonProjects/document-data-extraction/data-extraction/data/training/data_label3\\\\arxiv_annotate3_80_3.txt', 'C:/Users/user/PythonProjects/document-data-extraction/data-extraction/data/training/data_label3\\\\arxiv_annotate4_168_3.txt', 'C:/Users/user/PythonProjects/document-data-extraction/data-extraction/data/training/data_label3\\\\arxiv_annotate5_240_3.txt', 'C:/Users/user/PythonProjects/document-data-extraction/data-extraction/data/training/data_label3\\\\arxiv_annotate6_52_3.txt', 'C:/Users/user/PythonProjects/document-data-extraction/data-extraction/data/training/data_label3\\\\arxiv_annotate7_268_3.txt', 'C:/Users/user/PythonProjects/document-data-extraction/data-extraction/data/training/data_label3\\\\arxiv_annotate8_81_3.txt', 'C:/Users/user/PythonProjects/document-data-extraction/data-extraction/data/training/data_label3\\\\arxiv_annotate9_279_3.txt', 'C:/Users/user/PythonProjects/document-data-extraction/data-extraction/data/training/data_label3\\\\jdm_annotate10_210_3.txt', 'C:/Users/user/PythonProjects/document-data-extraction/data-extraction/data/training/data_label3\\\\jdm_annotate1_103_3.txt', 'C:/Users/user/PythonProjects/document-data-extraction/data-extraction/data/training/data_label3\\\\jdm_annotate2_107_3.txt', 'C:/Users/user/PythonProjects/document-data-extraction/data-extraction/data/training/data_label3\\\\jdm_annotate3_120_3.txt', 'C:/Users/user/PythonProjects/document-data-extraction/data-extraction/data/training/data_label3\\\\jdm_annotate4_220_3.txt', 'C:/Users/user/PythonProjects/document-data-extraction/data-extraction/data/training/data_label3\\\\jdm_annotate5_228_3.txt', 'C:/Users/user/PythonProjects/document-data-extraction/data-extraction/data/training/data_label3\\\\jdm_annotate6_32_3.txt', 'C:/Users/user/PythonProjects/document-data-extraction/data-extraction/data/training/data_label3\\\\jdm_annotate7_265_3.txt', 'C:/Users/user/PythonProjects/document-data-extraction/data-extraction/data/training/data_label3\\\\jdm_annotate8_177_3.txt', 'C:/Users/user/PythonProjects/document-data-extraction/data-extraction/data/training/data_label3\\\\jdm_annotate9_45_3.txt', 'C:/Users/user/PythonProjects/document-data-extraction/data-extraction/data/training/data_label3\\\\plos_annotate10_1140_3.txt', 'C:/Users/user/PythonProjects/document-data-extraction/data-extraction/data/training/data_label3\\\\plos_annotate1_6_3.txt', 'C:/Users/user/PythonProjects/document-data-extraction/data-extraction/data/training/data_label3\\\\plos_annotate2_336_3.txt', 'C:/Users/user/PythonProjects/document-data-extraction/data-extraction/data/training/data_label3\\\\plos_annotate3_798_3.txt', 'C:/Users/user/PythonProjects/document-data-extraction/data-extraction/data/training/data_label3\\\\plos_annotate4_1052_3.txt', 'C:/Users/user/PythonProjects/document-data-extraction/data-extraction/data/training/data_label3\\\\plos_annotate5_1375_3.txt', 'C:/Users/user/PythonProjects/document-data-extraction/data-extraction/data/training/data_label3\\\\plos_annotate6_1032_3.txt', 'C:/Users/user/PythonProjects/document-data-extraction/data-extraction/data/training/data_label3\\\\plos_annotate7_1233_3.txt', 'C:/Users/user/PythonProjects/document-data-extraction/data-extraction/data/training/data_label3\\\\plos_annotate8_123_3.txt', 'C:/Users/user/PythonProjects/document-data-extraction/data-extraction/data/training/data_label3\\\\plos_annotate9_1187_3.txt']\n"
     ]
    }
   ],
   "source": [
    "path = 'C:/Users/user/PythonProjects/document-data-extraction/data-extraction/data/training/data_label3/*.txt' \n",
    "files = glob.glob(path)\n",
    "print(files)"
   ]
  },
  {
   "cell_type": "code",
   "execution_count": 7,
   "metadata": {},
   "outputs": [
    {
     "name": "stdout",
     "output_type": "stream",
     "text": [
      "reading:  C:/Users/user/PythonProjects/document-data-extraction/data-extraction/data/training/data_label3\\arxiv_annotate10_7_3.txt\n",
      "reading:  C:/Users/user/PythonProjects/document-data-extraction/data-extraction/data/training/data_label3\\arxiv_annotate1_13_3.txt\n",
      "reading:  C:/Users/user/PythonProjects/document-data-extraction/data-extraction/data/training/data_label3\\arxiv_annotate2_66_3.txt\n",
      "reading:  C:/Users/user/PythonProjects/document-data-extraction/data-extraction/data/training/data_label3\\arxiv_annotate3_80_3.txt\n",
      "reading:  C:/Users/user/PythonProjects/document-data-extraction/data-extraction/data/training/data_label3\\arxiv_annotate4_168_3.txt\n",
      "reading:  C:/Users/user/PythonProjects/document-data-extraction/data-extraction/data/training/data_label3\\arxiv_annotate5_240_3.txt\n",
      "reading:  C:/Users/user/PythonProjects/document-data-extraction/data-extraction/data/training/data_label3\\arxiv_annotate6_52_3.txt\n",
      "reading:  C:/Users/user/PythonProjects/document-data-extraction/data-extraction/data/training/data_label3\\arxiv_annotate7_268_3.txt\n",
      "reading:  C:/Users/user/PythonProjects/document-data-extraction/data-extraction/data/training/data_label3\\arxiv_annotate8_81_3.txt\n",
      "reading:  C:/Users/user/PythonProjects/document-data-extraction/data-extraction/data/training/data_label3\\arxiv_annotate9_279_3.txt\n",
      "reading:  C:/Users/user/PythonProjects/document-data-extraction/data-extraction/data/training/data_label3\\jdm_annotate10_210_3.txt\n",
      "reading:  C:/Users/user/PythonProjects/document-data-extraction/data-extraction/data/training/data_label3\\jdm_annotate1_103_3.txt\n",
      "reading:  C:/Users/user/PythonProjects/document-data-extraction/data-extraction/data/training/data_label3\\jdm_annotate2_107_3.txt\n",
      "reading:  C:/Users/user/PythonProjects/document-data-extraction/data-extraction/data/training/data_label3\\jdm_annotate3_120_3.txt\n",
      "reading:  C:/Users/user/PythonProjects/document-data-extraction/data-extraction/data/training/data_label3\\jdm_annotate4_220_3.txt\n",
      "reading:  C:/Users/user/PythonProjects/document-data-extraction/data-extraction/data/training/data_label3\\jdm_annotate5_228_3.txt\n",
      "reading:  C:/Users/user/PythonProjects/document-data-extraction/data-extraction/data/training/data_label3\\jdm_annotate6_32_3.txt\n",
      "reading:  C:/Users/user/PythonProjects/document-data-extraction/data-extraction/data/training/data_label3\\jdm_annotate7_265_3.txt\n",
      "reading:  C:/Users/user/PythonProjects/document-data-extraction/data-extraction/data/training/data_label3\\jdm_annotate8_177_3.txt\n",
      "reading:  C:/Users/user/PythonProjects/document-data-extraction/data-extraction/data/training/data_label3\\jdm_annotate9_45_3.txt\n",
      "reading:  C:/Users/user/PythonProjects/document-data-extraction/data-extraction/data/training/data_label3\\plos_annotate10_1140_3.txt\n",
      "reading:  C:/Users/user/PythonProjects/document-data-extraction/data-extraction/data/training/data_label3\\plos_annotate1_6_3.txt\n",
      "reading:  C:/Users/user/PythonProjects/document-data-extraction/data-extraction/data/training/data_label3\\plos_annotate2_336_3.txt\n",
      "reading:  C:/Users/user/PythonProjects/document-data-extraction/data-extraction/data/training/data_label3\\plos_annotate3_798_3.txt\n",
      "reading:  C:/Users/user/PythonProjects/document-data-extraction/data-extraction/data/training/data_label3\\plos_annotate4_1052_3.txt\n",
      "reading:  C:/Users/user/PythonProjects/document-data-extraction/data-extraction/data/training/data_label3\\plos_annotate5_1375_3.txt\n",
      "reading:  C:/Users/user/PythonProjects/document-data-extraction/data-extraction/data/training/data_label3\\plos_annotate6_1032_3.txt\n",
      "reading:  C:/Users/user/PythonProjects/document-data-extraction/data-extraction/data/training/data_label3\\plos_annotate7_1233_3.txt\n",
      "reading:  C:/Users/user/PythonProjects/document-data-extraction/data-extraction/data/training/data_label3\\plos_annotate8_123_3.txt\n",
      "reading:  C:/Users/user/PythonProjects/document-data-extraction/data-extraction/data/training/data_label3\\plos_annotate9_1187_3.txt\n",
      "writing complete\n"
     ]
    }
   ],
   "source": [
    "for file in files:\n",
    "    print('reading: ',file)\n",
    "    train=open('C:/Users/user/PythonProjects/document-data-extraction/data-extraction/training/train3.txt','a') \n",
    "    document=open(file,\"r\")\n",
    "    for i, line in enumerate(document):\n",
    "        if not line.startswith('#'):\n",
    "            train.write(str(line)) \n",
    "train.close()\n",
    "print(\"writing complete\")"
   ]
  },
  {
   "cell_type": "markdown",
   "metadata": {},
   "source": [
    "For testing data"
   ]
  },
  {
   "cell_type": "code",
   "execution_count": null,
   "metadata": {},
   "outputs": [],
   "source": [
    "path1 = 'C:/Users/user/PythonProjects/document-data-extraction/data-extraction/data/testing/jdm/*.txt' \n",
    "files1 = glob.glob(path)\n",
    "path2 = 'C:/Users/user/PythonProjects/document-data-extraction/data-extraction/data/testing/plos/*.txt' \n",
    "files2 = glob.glob(path)\n",
    "print(files1)\n",
    "print(files2)"
   ]
  },
  {
   "cell_type": "code",
   "execution_count": null,
   "metadata": {},
   "outputs": [],
   "source": [
    "for file in files1:\n",
    "    print('reading: ',file)\n",
    "    test1=open('C:/Users/user/PythonProjects/document-data-extraction/data-extraction/testing/test_jdm.txt','a') \n",
    "    document=open(file,\"r\")\n",
    "    for i, line in enumerate(document):\n",
    "        if not line.startswith('#'):\n",
    "            test1.write(str(line)) \n",
    "test1.close()\n",
    "\n",
    "for file in files2:\n",
    "    print('reading: ',file)\n",
    "    test2=open('C:/Users/user/PythonProjects/document-data-extraction/data-extraction/testing/test_plos.txt','a') \n",
    "    document=open(file,\"r\")\n",
    "    for i, line in enumerate(document):\n",
    "        if not line.startswith('#'):\n",
    "            test2.write(str(line)) \n",
    "test2.close()\n",
    "\n",
    "print(\"writing complete\")\n",
    "\n"
   ]
  }
 ],
 "metadata": {
  "kernelspec": {
   "display_name": "Python 3",
   "language": "python",
   "name": "python3"
  },
  "language_info": {
   "codemirror_mode": {
    "name": "ipython",
    "version": 3
   },
   "file_extension": ".py",
   "mimetype": "text/x-python",
   "name": "python",
   "nbconvert_exporter": "python",
   "pygments_lexer": "ipython3",
   "version": "3.6.4"
  }
 },
 "nbformat": 4,
 "nbformat_minor": 2
}
