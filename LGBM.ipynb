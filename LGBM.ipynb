{
 "cells": [
  {
   "cell_type": "code",
   "execution_count": 35,
   "metadata": {},
   "outputs": [],
   "source": [
    "import numpy as np\n",
    "import pandas as pd\n",
    "import lightgbm as lgb\n",
    "from sklearn import model_selection\n",
    "from sklearn.preprocessing import StandardScaler\n",
    "from sklearn.metrics import accuracy_score\n",
    "from sklearn.metrics import confusion_matrix\n",
    "from imblearn.over_sampling import ADASYN"
   ]
  },
  {
   "cell_type": "code",
   "execution_count": 178,
   "metadata": {},
   "outputs": [],
   "source": [
    "dataset = pd.read_csv(\"C:/Users/user/PythonProjects/document-data-extraction/data-extraction/training_testing/train3_dv_lm_iv.csv\",header=None)\n",
    "n=len(dataset.columns)-1"
   ]
  },
  {
   "cell_type": "code",
   "execution_count": 179,
   "metadata": {},
   "outputs": [],
   "source": [
    "X = dataset.iloc[:,0:n]\n",
    "Y = dataset.iloc[:,n].values\n",
    "X, Y = ADASYN().fit_sample(X, Y)"
   ]
  },
  {
   "cell_type": "code",
   "execution_count": 180,
   "metadata": {},
   "outputs": [
    {
     "name": "stdout",
     "output_type": "stream",
     "text": [
      "[615, 627, 639, 623, 621]\n"
     ]
    }
   ],
   "source": [
    "Y1=[]\n",
    "i=[0,0,0,0,0]\n",
    "for y in Y:\n",
    "    if(y=='AIMX'):\n",
    "        Y1.append(0)\n",
    "        i[0]=i[0]+1\n",
    "    if(y=='BASE'):\n",
    "        Y1.append(1)\n",
    "        i[1]=i[1]+1\n",
    "    if(y=='CONT'):\n",
    "        Y1.append(2)\n",
    "        i[2]=i[2]+1\n",
    "    if(y=='MISC'):\n",
    "        Y1.append(3)\n",
    "        i[3]=i[3]+1\n",
    "    if(y=='OWNX'):\n",
    "        Y1.append(4)\n",
    "        i[4]=i[4]+1\n",
    "print(i)"
   ]
  },
  {
   "cell_type": "code",
   "execution_count": 181,
   "metadata": {},
   "outputs": [],
   "source": [
    "x_train, x_test, y_train, y_test = model_selection.train_test_split(X, Y1, test_size = 0.40, random_state = 8)"
   ]
  },
  {
   "cell_type": "code",
   "execution_count": 182,
   "metadata": {},
   "outputs": [],
   "source": [
    "sc = StandardScaler()\n",
    "x_train = sc.fit_transform(x_train)\n",
    "x_test = sc.transform(x_test)"
   ]
  },
  {
   "cell_type": "code",
   "execution_count": 183,
   "metadata": {},
   "outputs": [],
   "source": [
    "d_train = lgb.Dataset(x_train, label=y_train)\n",
    "params = {}\n",
    "params['learning_rate'] = 0.001\n",
    "params['boosting_type'] = 'gbdt'\n",
    "params['objective'] = 'multiclass'\n",
    "params['num_class'] = 5\n",
    "params['metric'] = 'softmax'\n",
    "params['sub_feature'] = 0.5\n",
    "params['num_leaves'] = 30\n",
    "params['max_depth'] = 30\n",
    "params['min_data'] = 50\n",
    "\n",
    "clf = lgb.train(params, d_train, 100)"
   ]
  },
  {
   "cell_type": "code",
   "execution_count": 184,
   "metadata": {},
   "outputs": [],
   "source": [
    "y_pred=clf.predict(x_test)\n",
    "y_pred=y_pred.argmax(axis=1)"
   ]
  },
  {
   "cell_type": "code",
   "execution_count": 185,
   "metadata": {},
   "outputs": [
    {
     "name": "stdout",
     "output_type": "stream",
     "text": [
      "[0 2 1 ... 3 0 1]\n"
     ]
    }
   ],
   "source": [
    "print(y_pred)"
   ]
  },
  {
   "cell_type": "code",
   "execution_count": 186,
   "metadata": {},
   "outputs": [
    {
     "name": "stdout",
     "output_type": "stream",
     "text": [
      "[0, 2, 1, 0, 1, 3, 1, 1, 2, 0, 3, 4, 2, 0, 4, 4, 2, 2, 0, 0, 1, 4, 4, 0, 3, 0, 1, 1, 3, 4, 2, 0, 1, 4, 3, 1, 3, 0, 2, 2, 3, 2, 1, 1, 2, 0, 4, 3, 4, 3, 2, 1, 4, 3, 2, 1, 3, 4, 3, 3, 3, 4, 2, 2, 0, 4, 4, 1, 1, 4, 2, 4, 1, 4, 1, 3, 2, 4, 3, 2, 1, 4, 2, 1, 4, 2, 4, 3, 0, 0, 2, 2, 3, 0, 2, 0, 3, 3, 3, 2, 2, 0, 0, 2, 1, 3, 1, 0, 1, 1, 3, 2, 3, 0, 2, 0, 0, 3, 1, 1, 0, 2, 4, 2, 0, 2, 4, 0, 0, 3, 3, 0, 0, 0, 4, 2, 0, 1, 2, 3, 2, 3, 1, 0, 2, 0, 4, 3, 0, 4, 4, 3, 1, 0, 2, 3, 4, 0, 1, 0, 2, 0, 3, 3, 3, 2, 4, 0, 0, 2, 1, 3, 4, 1, 0, 3, 4, 2, 0, 2, 1, 3, 3, 1, 2, 0, 4, 4, 1, 2, 2, 1, 2, 1, 0, 1, 2, 3, 2, 1, 1, 2, 4, 4, 1, 4, 3, 2, 4, 4, 3, 0, 1, 4, 2, 0, 3, 1, 1, 3, 4, 2, 2, 2, 1, 1, 2, 1, 3, 1, 4, 4, 4, 2, 3, 2, 3, 3, 1, 3, 2, 3, 3, 0, 2, 1, 2, 1, 0, 0, 1, 0, 0, 3, 1, 4, 2, 1, 1, 4, 2, 1, 3, 4, 1, 3, 4, 1, 3, 1, 0, 0, 4, 0, 3, 0, 0, 2, 4, 1, 2, 4, 0, 3, 1, 4, 4, 2, 0, 1, 0, 4, 3, 4, 4, 1, 1, 0, 0, 2, 4, 0, 0, 2, 1, 1, 3, 1, 4, 3, 1, 2, 2, 2, 2, 3, 2, 2, 0, 3, 1, 4, 4, 1, 4, 2, 0, 0, 4, 3, 1, 4, 0, 2, 3, 2, 2, 1, 3, 2, 3, 2, 4, 2, 3, 2, 2, 3, 2, 1, 0, 1, 3, 1, 1, 0, 0, 0, 0, 0, 1, 2, 4, 0, 1, 3, 4, 1, 1, 4, 1, 1, 0, 3, 3, 3, 4, 4, 1, 1, 1, 3, 3, 0, 1, 2, 0, 4, 4, 0, 3, 1, 1, 1, 3, 2, 2, 3, 1, 0, 2, 0, 4, 4, 1, 4, 2, 0, 4, 0, 2, 0, 0, 4, 4, 3, 0, 2, 2, 0, 0, 2, 1, 1, 3, 4, 2, 2, 4, 3, 1, 0, 2, 3, 3, 3, 1, 1, 2, 4, 1, 2, 3, 3, 4, 2, 4, 1, 4, 3, 3, 1, 4, 4, 3, 3, 4, 2, 0, 4, 0, 4, 1, 4, 1, 1, 1, 1, 4, 1, 4, 3, 3, 4, 1, 3, 4, 4, 4, 1, 0, 0, 0, 3, 2, 4, 1, 2, 2, 4, 0, 2, 1, 1, 0, 0, 1, 1, 2, 1, 2, 3, 4, 3, 1, 4, 0, 4, 0, 0, 4, 0, 1, 3, 3, 1, 4, 2, 2, 1, 2, 3, 4, 1, 0, 0, 4, 0, 0, 4, 2, 4, 4, 2, 3, 4, 2, 3, 3, 3, 3, 4, 2, 1, 3, 2, 0, 1, 2, 3, 2, 0, 1, 3, 0, 0, 4, 3, 1, 3, 3, 2, 0, 3, 1, 1, 2, 3, 0, 4, 2, 1, 2, 4, 0, 0, 1, 3, 4, 2, 2, 0, 3, 3, 1, 1, 3, 4, 1, 3, 1, 1, 2, 4, 1, 1, 2, 3, 3, 1, 3, 0, 2, 2, 0, 2, 3, 1, 0, 3, 1, 3, 4, 3, 4, 4, 3, 1, 2, 2, 4, 4, 1, 1, 4, 2, 2, 2, 1, 0, 0, 1, 2, 3, 0, 2, 1, 4, 2, 2, 1, 2, 1, 2, 2, 4, 4, 0, 1, 2, 4, 3, 0, 4, 3, 3, 4, 2, 1, 2, 1, 0, 2, 4, 2, 3, 0, 4, 4, 0, 2, 3, 3, 4, 0, 4, 1, 0, 0, 4, 2, 4, 4, 0, 4, 3, 2, 4, 0, 2, 2, 2, 1, 4, 3, 2, 4, 4, 2, 3, 3, 0, 0, 2, 2, 2, 1, 3, 4, 4, 3, 3, 1, 1, 4, 0, 4, 1, 3, 4, 1, 0, 3, 0, 2, 2, 1, 2, 0, 3, 3, 0, 3, 4, 1, 0, 1, 2, 3, 0, 1, 3, 1, 0, 2, 1, 4, 4, 4, 2, 2, 0, 2, 2, 0, 2, 2, 3, 3, 3, 0, 2, 0, 0, 4, 2, 2, 2, 1, 2, 0, 2, 1, 3, 0, 3, 1, 1, 3, 0, 3, 1, 2, 1, 1, 3, 0, 0, 4, 4, 3, 4, 3, 0, 2, 3, 3, 0, 2, 3, 0, 3, 4, 0, 2, 1, 3, 4, 1, 1, 0, 0, 1, 4, 1, 0, 2, 0, 1, 2, 1, 3, 0, 4, 4, 0, 3, 4, 4, 2, 2, 0, 2, 3, 1, 1, 3, 3, 1, 1, 3, 3, 4, 2, 4, 3, 1, 3, 4, 1, 2, 4, 4, 0, 1, 2, 0, 4, 1, 1, 0, 3, 1, 0, 0, 1, 1, 2, 3, 4, 0, 1, 0, 2, 4, 3, 2, 2, 4, 4, 3, 1, 2, 3, 3, 3, 0, 3, 0, 3, 0, 2, 4, 1, 4, 1, 0, 2, 3, 0, 1, 3, 0, 1, 0, 4, 4, 3, 1, 1, 1, 2, 0, 2, 3, 3, 2, 1, 1, 1, 1, 2, 3, 4, 0, 3, 4, 4, 3, 3, 4, 4, 3, 0, 3, 4, 2, 3, 1, 3, 0, 2, 4, 0, 0, 0, 0, 2, 2, 2, 3, 1, 4, 4, 2, 3, 1, 1, 3, 2, 0, 1, 2, 3, 2, 3, 3, 4, 3, 4, 4, 2, 3, 4, 1, 4, 3, 4, 4, 3, 3, 2, 1, 3, 0, 3, 4, 4, 2, 0, 4, 2, 2, 1, 3, 0, 0, 0, 0, 2, 0, 3, 2, 4, 1, 3, 4, 4, 2, 3, 0, 2, 0, 3, 1, 1, 1, 4, 1, 2, 3, 3, 1, 4, 1, 0, 0, 4, 4, 2, 0, 0, 0, 0, 3, 1, 3, 1, 0, 4, 0, 4, 2, 3, 2, 3, 2, 0, 1, 0, 2, 0, 3, 4, 3, 4, 2, 1, 2, 0, 0, 3, 2, 3, 3, 2, 3, 3, 2, 1, 1, 1, 0, 2, 2, 0, 0, 2, 4, 1, 2, 1, 3, 4, 0, 1, 3, 2, 3, 3, 4, 0, 1, 1, 3, 3, 0, 0, 3, 0, 1, 2, 3, 4, 3, 2, 4, 0, 4, 1, 1, 3, 4, 2, 0, 2, 1, 2, 1, 2, 3, 4, 0, 0, 0, 2, 1, 4, 3, 2, 2, 2, 0, 1, 0, 4, 3, 3, 0, 0, 2, 4, 1, 3, 2, 1, 1, 2, 3, 0, 0, 3, 4, 2, 4, 4, 2, 4, 0, 0, 1, 0, 2, 1, 1, 1, 4, 1, 1, 0, 0, 3, 1, 3, 1, 3, 0, 3, 2, 2, 1, 1, 1, 4, 0, 3, 2, 3, 3, 3, 2, 1, 3, 1, 1, 2, 2, 1, 3, 4, 4, 0, 3, 4, 4, 3, 0, 3, 0, 3, 4, 4, 0, 2, 0, 1, 2, 2, 3, 4, 4, 1, 0, 4, 0, 1, 3, 1, 1, 1, 2, 3, 4, 0, 1, 1, 2, 4, 0, 4, 2, 4, 0, 3, 4, 3, 0, 3, 0, 1]\n"
     ]
    }
   ],
   "source": [
    "print(y_test)"
   ]
  },
  {
   "cell_type": "code",
   "execution_count": 187,
   "metadata": {},
   "outputs": [
    {
     "name": "stdout",
     "output_type": "stream",
     "text": [
      "[[221   3   1   9   8]\n",
      " [  0 258   1   0   0]\n",
      " [  4   3 236   6   6]\n",
      " [ 27  12  31 104  86]\n",
      " [ 17  22  14  48 133]]\n"
     ]
    }
   ],
   "source": [
    "conf_mat = confusion_matrix(y_test, y_pred)\n",
    "print(conf_mat)"
   ]
  },
  {
   "cell_type": "code",
   "execution_count": 188,
   "metadata": {},
   "outputs": [
    {
     "name": "stdout",
     "output_type": "stream",
     "text": [
      "76.16000000000001 %\n"
     ]
    }
   ],
   "source": [
    "accuracy=accuracy_score(y_pred,y_test)\n",
    "print(accuracy*100,'%')"
   ]
  },
  {
   "cell_type": "markdown",
   "metadata": {},
   "source": [
    "Testing on unknown dataset"
   ]
  },
  {
   "cell_type": "code",
   "execution_count": 189,
   "metadata": {},
   "outputs": [],
   "source": [
    "dataset = pd.read_csv(\"C:/Users/user/PythonProjects/document-data-extraction/data-extraction/training_testing/train2_dv_lm_iv.csv\",header=None)\n",
    "n=len(dataset.columns)-1\n",
    "x_testing = dataset.iloc[:,0:n]\n",
    "y_testing = dataset.iloc[:,n].values"
   ]
  },
  {
   "cell_type": "code",
   "execution_count": 190,
   "metadata": {},
   "outputs": [],
   "source": [
    "y_testing1=[]\n",
    "for y in y_testing:\n",
    "    if(y=='AIMX'):\n",
    "        y_testing1.append(0)\n",
    "    if(y=='BASE'):\n",
    "        y_testing1.append(1)\n",
    "    if(y=='CONT'):\n",
    "        y_testing1.append(2)\n",
    "    if(y=='MISC'):\n",
    "        y_testing1.append(3)\n",
    "    if(y=='OWNX'):\n",
    "        y_testing1.append(4)\n",
    "x_testing = sc.transform(x_testing)"
   ]
  },
  {
   "cell_type": "code",
   "execution_count": 191,
   "metadata": {},
   "outputs": [
    {
     "name": "stdout",
     "output_type": "stream",
     "text": [
      "[3 4 0 ... 3 1 4]\n"
     ]
    }
   ],
   "source": [
    "y_output=clf.predict(x_testing)\n",
    "y_output=y_output.argmax(axis=1)\n",
    "print(y_output)"
   ]
  },
  {
   "cell_type": "code",
   "execution_count": 192,
   "metadata": {},
   "outputs": [
    {
     "name": "stdout",
     "output_type": "stream",
     "text": [
      "[3, 3, 3, 0, 4, 4, 4, 3, 2, 3, 3, 3, 3, 3, 3, 3, 3, 3, 3, 3, 3, 3, 3, 3, 3, 3, 3, 3, 3, 3, 3, 3, 0, 4, 4, 4, 4, 3, 3, 3, 3, 3, 3, 3, 3, 3, 3, 3, 3, 3, 3, 3, 3, 3, 3, 3, 3, 3, 3, 4, 4, 4, 4, 4, 4, 4, 4, 3, 0, 4, 4, 4, 3, 3, 3, 3, 3, 3, 3, 3, 3, 3, 3, 3, 3, 3, 3, 3, 3, 0, 0, 4, 4, 4, 4, 4, 1, 4, 4, 4, 0, 4, 0, 3, 3, 3, 3, 3, 3, 3, 3, 3, 3, 3, 3, 3, 3, 3, 3, 3, 0, 4, 0, 4, 3, 3, 4, 4, 3, 3, 3, 1, 0, 4, 0, 4, 3, 3, 3, 3, 3, 0, 0, 4, 4, 4, 3, 3, 3, 3, 3, 3, 3, 3, 3, 3, 3, 0, 0, 4, 1, 2, 1, 1, 2, 4, 4, 2, 4, 4, 4, 4, 4, 0, 4, 4, 3, 3, 3, 3, 3, 3, 3, 3, 3, 3, 4, 3, 0, 0, 4, 4, 4, 0, 1, 1, 4, 4, 4, 4, 4, 4, 4, 4, 4, 4, 4, 4, 4, 3, 2, 2, 2, 4, 3, 3, 3, 3, 4, 4, 2, 2, 0, 4, 4, 4, 4, 4, 3, 3, 3, 3, 4, 4, 4, 3, 0, 4, 4, 4, 4, 4, 4, 4, 4, 4, 4, 4, 4, 0, 4, 4, 3, 3, 3, 3, 0, 4, 4, 4, 4, 4, 4, 4, 4, 4, 1, 4, 4, 4, 4, 4, 3, 4, 4, 4, 4, 0, 3, 3, 3, 3, 3, 3, 3, 3, 3, 3, 3, 3, 3, 0, 4, 4, 4, 4, 4, 4, 4, 4, 3, 3, 3, 4, 0, 3, 3, 3, 3, 3, 3, 3, 3, 3, 3, 3, 3, 3, 3, 3, 3, 0, 4, 1, 4, 4, 4, 4, 4, 4, 4, 3, 3, 3, 3, 3, 3, 3, 3, 3, 3, 3, 3, 3, 3, 3, 2, 3, 0, 0, 4, 3, 3, 3, 3, 3, 1, 4, 4, 3, 3, 0, 3, 3, 3, 3, 3, 3, 3, 3, 3, 3, 3, 3, 3, 3, 3, 3, 3, 3, 3, 3, 3, 3, 3, 3, 3, 3, 4, 4, 4, 4, 4, 4, 4, 0, 4, 3, 2, 3, 3, 2, 3, 0, 0, 4, 4, 3, 4, 3, 3, 3, 3, 3, 3, 3, 3, 3, 3, 3, 3, 3, 3, 3, 3, 4, 3, 3, 3, 2, 3, 3, 3, 3, 3, 3, 3, 3, 3, 3, 3, 3, 3, 3, 1, 3, 3, 3, 0, 4, 4, 4, 3, 3, 3, 3, 3, 3, 3, 3, 3, 3, 3, 3, 3, 3, 3, 3, 3, 3, 3, 3, 3, 3, 1, 4, 4, 4, 4, 4, 4, 3, 3, 0, 4, 3, 3, 3, 3, 3, 3, 3, 0, 2, 4, 3, 2, 0, 4, 4, 4, 4, 4, 4, 4, 0, 0, 3, 1, 3, 3, 3, 3, 3, 3, 3, 2, 3, 3, 2, 3, 3, 3, 2, 3, 3, 2, 3, 2, 0, 4, 2, 4, 4, 0, 4, 4, 4, 3, 3, 3, 3, 3, 3, 3, 3, 3, 3, 3, 3, 3, 3, 3, 2, 3, 2, 0, 4, 4, 4, 4, 4, 4, 3, 4, 2, 4, 4, 4, 4, 0, 3, 3, 3, 3, 3, 3, 3, 3, 3, 3, 0, 3, 0, 4, 4, 4, 3, 3, 3, 3, 3, 3, 3, 3, 3, 3, 3, 3, 3, 3, 3, 3, 3, 3, 3, 3, 3, 3, 0, 4, 4, 4, 4, 4, 4, 4, 4, 4, 4, 4, 4, 4, 4, 4, 4, 3, 0, 4, 4, 3, 3, 3, 3, 3, 3, 3, 3, 3, 3, 3, 3, 3, 0, 0, 3, 3, 3, 3, 3, 3, 3, 3, 3, 0, 0, 4, 4, 0, 3, 3, 3, 3, 3, 3, 3, 3, 3, 3, 3, 3, 3, 3, 3, 2, 3, 3, 3, 3, 3, 3, 3, 3, 3, 3, 3, 3, 3, 3, 3, 3, 3, 3, 3, 3, 3, 3, 3, 3, 3, 3, 3, 3, 3, 3, 3, 3, 3, 3, 3, 3, 4, 4, 4, 4, 4, 4, 0, 4, 4, 3, 3, 3, 4, 3, 1, 4, 3, 3, 3, 0, 4, 4, 4, 4, 4, 3, 3, 3, 3, 3, 3, 3, 3, 3, 3, 3, 3, 3, 0, 4, 4, 4, 4, 3, 3, 3, 3, 3, 3, 3, 3, 3, 3, 2, 2, 3, 4, 0, 4, 4, 4, 3, 3, 3, 0, 3, 3, 3, 3, 3, 3, 3, 4, 3, 3, 3, 3, 3, 3, 3, 3, 3, 3, 3, 3, 3, 3, 3, 3, 3, 3, 3, 4, 4, 4, 4, 4, 4, 3, 0, 4, 4, 4, 4, 3, 3, 3, 3, 3, 3, 3, 3, 1, 3, 3, 3, 3, 3, 3, 0, 4, 4, 4, 4, 4, 4, 4, 3, 3, 4, 0, 1, 4, 3, 3, 3, 3, 3, 3, 3, 4, 3, 3, 3, 3, 3, 3, 3, 3, 2, 3, 3, 0, 4, 4, 4, 4, 4, 3, 3, 4, 1, 4, 4, 4, 4, 4, 4, 3, 3, 3, 3, 3, 3, 3, 3, 3, 3, 3, 3, 3, 1, 4, 4, 4, 3, 2, 3, 3, 3, 0, 4, 4, 4, 4, 4, 4, 4, 4, 3, 3, 0, 4, 4, 4, 4, 4, 4, 3, 2, 3, 3, 1, 3, 3, 2, 3, 2, 3, 2, 3, 2, 2, 2, 2, 2, 0, 4, 4, 4, 4, 1, 4, 4, 4, 3, 0, 4, 4, 4, 4, 4, 4, 4, 3, 3, 3, 3, 3, 3, 3, 3, 3, 3, 3, 3, 3, 2, 3, 3, 2, 2, 3, 3, 3, 4, 0, 4, 4, 1, 4, 4, 1, 4, 4, 4, 4, 3, 3, 3, 0, 4, 4, 4, 4, 4, 4, 3, 3, 3, 3, 3, 3, 3, 3, 3, 2, 3, 3, 3, 2, 3, 3, 3, 3, 2, 3, 3, 3, 3, 1, 4, 4]\n"
     ]
    }
   ],
   "source": [
    "print(y_testing1)"
   ]
  },
  {
   "cell_type": "code",
   "execution_count": 193,
   "metadata": {},
   "outputs": [
    {
     "name": "stdout",
     "output_type": "stream",
     "text": [
      "[[  8   3   8  23  25]\n",
      " [  0   1   2   4  16]\n",
      " [  2   0   8  19  15]\n",
      " [ 41  17  62 231 239]\n",
      " [  8  11  34 118 129]]\n"
     ]
    }
   ],
   "source": [
    "conf_mat = confusion_matrix(y_testing1, y_output)\n",
    "print(conf_mat)"
   ]
  },
  {
   "cell_type": "code",
   "execution_count": 194,
   "metadata": {},
   "outputs": [
    {
     "name": "stdout",
     "output_type": "stream",
     "text": [
      "36.81640625 %\n"
     ]
    }
   ],
   "source": [
    "accuracy=accuracy_score(y_output,y_testing1)\n",
    "print(accuracy*100,'%')"
   ]
  },
  {
   "cell_type": "code",
   "execution_count": null,
   "metadata": {},
   "outputs": [],
   "source": []
  }
 ],
 "metadata": {
  "kernelspec": {
   "display_name": "Python 3",
   "language": "python",
   "name": "python3"
  },
  "language_info": {
   "codemirror_mode": {
    "name": "ipython",
    "version": 3
   },
   "file_extension": ".py",
   "mimetype": "text/x-python",
   "name": "python",
   "nbconvert_exporter": "python",
   "pygments_lexer": "ipython3",
   "version": "3.6.4"
  }
 },
 "nbformat": 4,
 "nbformat_minor": 2
}
