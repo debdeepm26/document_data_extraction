{
 "cells": [
  {
   "cell_type": "code",
   "execution_count": 1,
   "metadata": {},
   "outputs": [],
   "source": [
    "import numpy as np\n",
    "import pandas as pd\n",
    "import lightgbm as lgb\n",
    "from sklearn import model_selection\n",
    "from sklearn.preprocessing import StandardScaler\n",
    "from sklearn.metrics import accuracy_score\n",
    "from sklearn.metrics import confusion_matrix\n",
    "from imblearn.over_sampling import ADASYN"
   ]
  },
  {
   "cell_type": "code",
   "execution_count": 2,
   "metadata": {},
   "outputs": [],
   "source": [
    "dataset = pd.read_csv(\"C:/Users/user/PythonProjects/document-data-extraction/data-extraction/training/train3_dv_lm_iv.csv\",header=None)\n",
    "n=len(dataset.columns)-1"
   ]
  },
  {
   "cell_type": "code",
   "execution_count": 3,
   "metadata": {},
   "outputs": [],
   "source": [
    "X = dataset.iloc[:,0:n]\n",
    "Y = dataset.iloc[:,n].values\n",
    "X, Y = ADASYN().fit_sample(X, Y)"
   ]
  },
  {
   "cell_type": "code",
   "execution_count": 4,
   "metadata": {},
   "outputs": [
    {
     "name": "stdout",
     "output_type": "stream",
     "text": [
      "[641, 627, 616, 623, 642]\n"
     ]
    }
   ],
   "source": [
    "Y1=[]\n",
    "i=[0,0,0,0,0]\n",
    "for y in Y:\n",
    "    if(y=='AIMX'):\n",
    "        Y1.append(0)\n",
    "        i[0]=i[0]+1\n",
    "    if(y=='BASE'):\n",
    "        Y1.append(1)\n",
    "        i[1]=i[1]+1\n",
    "    if(y=='CONT'):\n",
    "        Y1.append(2)\n",
    "        i[2]=i[2]+1\n",
    "    if(y=='MISC'):\n",
    "        Y1.append(3)\n",
    "        i[3]=i[3]+1\n",
    "    if(y=='OWNX'):\n",
    "        Y1.append(4)\n",
    "        i[4]=i[4]+1\n",
    "print(i)"
   ]
  },
  {
   "cell_type": "code",
   "execution_count": 5,
   "metadata": {},
   "outputs": [],
   "source": [
    "x_train, x_test, y_train, y_test = model_selection.train_test_split(X, Y1, test_size = 0.40, random_state = 8)"
   ]
  },
  {
   "cell_type": "code",
   "execution_count": 6,
   "metadata": {},
   "outputs": [],
   "source": [
    "sc = StandardScaler()\n",
    "x_train = sc.fit_transform(x_train)\n",
    "x_test = sc.transform(x_test)"
   ]
  },
  {
   "cell_type": "code",
   "execution_count": 7,
   "metadata": {},
   "outputs": [],
   "source": [
    "d_train = lgb.Dataset(x_train, label=y_train)\n",
    "params = {}\n",
    "params['learning_rate'] = 0.001\n",
    "params['boosting_type'] = 'gbdt'\n",
    "params['objective'] = 'multiclass'\n",
    "params['num_class'] = 5\n",
    "params['metric'] = 'softmax'\n",
    "params['sub_feature'] = 0.5\n",
    "params['num_leaves'] = 30\n",
    "params['max_depth'] = 30\n",
    "params['min_data'] = 50\n",
    "\n",
    "clf = lgb.train(params, d_train, 100)"
   ]
  },
  {
   "cell_type": "code",
   "execution_count": 8,
   "metadata": {},
   "outputs": [],
   "source": [
    "y_pred=clf.predict(x_test)\n",
    "y_pred=y_pred.argmax(axis=1)"
   ]
  },
  {
   "cell_type": "code",
   "execution_count": 9,
   "metadata": {},
   "outputs": [
    {
     "name": "stdout",
     "output_type": "stream",
     "text": [
      "[1 4 0 ... 0 1 0]\n"
     ]
    }
   ],
   "source": [
    "print(y_pred)"
   ]
  },
  {
   "cell_type": "code",
   "execution_count": 10,
   "metadata": {},
   "outputs": [
    {
     "name": "stdout",
     "output_type": "stream",
     "text": [
      "[1, 4, 0, 0, 0, 0, 4, 0, 1, 3, 1, 1, 0, 0, 2, 3, 4, 1, 3, 0, 1, 0, 0, 1, 1, 0, 3, 4, 0, 4, 4, 0, 4, 2, 0, 4, 2, 3, 2, 2, 0, 0, 4, 3, 3, 2, 1, 3, 2, 0, 1, 4, 0, 0, 1, 1, 4, 4, 3, 4, 3, 3, 0, 1, 4, 0, 1, 1, 3, 4, 3, 3, 4, 4, 0, 2, 2, 3, 3, 1, 4, 4, 0, 4, 4, 1, 3, 4, 1, 4, 2, 0, 2, 1, 4, 4, 2, 0, 2, 0, 2, 2, 3, 4, 4, 4, 0, 3, 0, 4, 2, 4, 3, 4, 0, 1, 4, 1, 2, 3, 2, 2, 3, 2, 1, 0, 4, 3, 0, 0, 4, 1, 4, 1, 3, 3, 3, 4, 3, 2, 0, 3, 0, 3, 3, 2, 2, 2, 0, 4, 1, 3, 0, 2, 2, 0, 2, 2, 4, 2, 2, 4, 4, 0, 3, 0, 1, 3, 2, 3, 4, 2, 1, 2, 0, 4, 1, 3, 1, 2, 0, 0, 1, 1, 4, 0, 0, 3, 3, 3, 1, 2, 3, 0, 0, 0, 3, 4, 0, 1, 0, 0, 2, 0, 4, 4, 4, 0, 1, 4, 2, 0, 3, 3, 2, 2, 1, 1, 2, 2, 0, 0, 4, 3, 1, 2, 1, 4, 2, 3, 2, 3, 2, 1, 4, 1, 2, 1, 1, 2, 3, 2, 1, 1, 0, 2, 0, 1, 3, 1, 2, 2, 1, 1, 2, 3, 2, 3, 2, 0, 3, 2, 4, 0, 3, 1, 0, 1, 3, 0, 1, 4, 4, 1, 0, 1, 2, 1, 3, 2, 4, 3, 0, 4, 2, 4, 1, 1, 1, 0, 3, 1, 4, 3, 1, 1, 3, 2, 0, 0, 0, 1, 2, 3, 3, 0, 2, 2, 0, 0, 2, 0, 1, 1, 1, 3, 0, 4, 4, 4, 2, 1, 1, 4, 0, 3, 0, 1, 0, 1, 3, 2, 3, 3, 4, 3, 4, 2, 1, 2, 1, 2, 3, 0, 2, 4, 1, 1, 3, 2, 2, 2, 4, 4, 3, 0, 0, 2, 3, 4, 3, 0, 1, 2, 3, 4, 1, 2, 1, 1, 3, 1, 3, 2, 2, 3, 4, 2, 2, 2, 3, 1, 1, 1, 4, 0, 2, 0, 3, 0, 4, 3, 2, 3, 2, 1, 4, 0, 1, 1, 3, 3, 3, 4, 3, 1, 2, 2, 1, 0, 1, 2, 0, 0, 4, 4, 2, 2, 4, 3, 1, 2, 4, 2, 3, 0, 1, 4, 4, 2, 2, 2, 1, 3, 1, 1, 2, 4, 1, 4, 2, 3, 0, 0, 4, 0, 1, 0, 0, 2, 1, 0, 1, 2, 1, 1, 1, 1, 2, 0, 4, 4, 1, 2, 4, 1, 3, 3, 4, 2, 1, 4, 4, 0, 1, 3, 4, 2, 1, 2, 4, 4, 3, 3, 0, 1, 4, 1, 3, 4, 2, 2, 0, 2, 0, 2, 2, 1, 4, 3, 0, 2, 1, 2, 4, 1, 2, 3, 1, 1, 2, 3, 4, 4, 0, 0, 1, 2, 0, 1, 3, 0, 1, 3, 3, 3, 0, 3, 4, 4, 3, 4, 3, 3, 4, 1, 3, 1, 4, 3, 1, 0, 1, 0, 4, 1, 3, 4, 2, 1, 3, 4, 3, 3, 4, 4, 3, 2, 0, 2, 1, 1, 3, 2, 2, 3, 3, 1, 0, 4, 3, 0, 1, 1, 0, 4, 3, 0, 0, 2, 3, 0, 3, 0, 1, 3, 2, 0, 0, 0, 4, 4, 2, 2, 1, 3, 3, 0, 1, 3, 3, 2, 3, 1, 4, 2, 4, 1, 0, 4, 2, 3, 1, 4, 3, 1, 4, 1, 2, 3, 1, 0, 1, 3, 1, 3, 4, 3, 1, 4, 3, 2, 1, 0, 1, 4, 4, 2, 3, 0, 4, 0, 1, 4, 1, 0, 0, 0, 4, 3, 0, 0, 0, 4, 2, 2, 2, 3, 1, 1, 3, 4, 4, 0, 4, 1, 3, 2, 0, 4, 4, 3, 2, 1, 0, 1, 2, 4, 0, 4, 2, 3, 4, 4, 4, 2, 1, 1, 4, 3, 4, 4, 2, 3, 0, 0, 4, 0, 1, 0, 4, 2, 4, 3, 1, 2, 3, 0, 2, 1, 2, 4, 3, 2, 4, 3, 1, 3, 4, 0, 2, 2, 2, 1, 2, 3, 2, 4, 2, 4, 1, 4, 1, 2, 0, 1, 0, 4, 1, 2, 3, 1, 1, 1, 1, 2, 0, 2, 3, 1, 0, 4, 4, 1, 0, 3, 1, 4, 3, 0, 1, 3, 1, 2, 4, 1, 4, 0, 3, 2, 4, 4, 2, 0, 1, 0, 0, 3, 3, 3, 0, 1, 0, 0, 3, 1, 2, 0, 0, 4, 0, 2, 1, 3, 0, 4, 4, 1, 3, 0, 3, 0, 1, 2, 2, 3, 0, 0, 4, 4, 3, 4, 3, 0, 2, 3, 3, 2, 0, 3, 0, 1, 4, 0, 0, 2, 2, 4, 2, 2, 0, 0, 0, 4, 1, 2, 0, 0, 2, 2, 1, 4, 1, 1, 2, 0, 3, 1, 4, 2, 0, 0, 2, 3, 0, 1, 3, 2, 2, 0, 3, 3, 2, 2, 4, 3, 1, 3, 2, 1, 2, 2, 2, 4, 0, 2, 0, 3, 0, 1, 0, 3, 4, 3, 1, 1, 1, 2, 3, 4, 1, 1, 0, 1, 1, 3, 4, 1, 4, 1, 3, 2, 2, 3, 3, 3, 0, 3, 4, 3, 4, 2, 3, 4, 0, 2, 4, 0, 2, 3, 0, 1, 3, 4, 1, 1, 4, 4, 3, 1, 2, 4, 2, 1, 1, 3, 3, 2, 3, 1, 2, 1, 2, 3, 4, 2, 0, 3, 4, 4, 3, 3, 0, 0, 3, 2, 4, 4, 4, 3, 2, 0, 3, 2, 0, 1, 0, 1, 1, 1, 2, 2, 2, 3, 1, 4, 4, 2, 3, 0, 1, 3, 2, 0, 4, 0, 3, 4, 3, 3, 4, 3, 1, 2, 0, 3, 4, 2, 4, 3, 4, 4, 3, 3, 0, 1, 3, 0, 3, 1, 4, 2, 0, 4, 1, 0, 1, 2, 3, 1, 0, 1, 0, 4, 0, 3, 0, 0, 3, 4, 1, 3, 4, 2, 4, 1, 4, 4, 3, 1, 1, 2, 0, 2, 1, 0, 0, 0, 4, 4, 3, 2, 3, 2, 4, 4, 0, 4, 2, 3, 2, 3, 1, 0, 1, 0, 2, 2, 3, 4, 3, 2, 2, 1, 2, 1, 0, 3, 2, 3, 3, 0, 0, 3, 4, 3, 0, 0, 2, 2, 0, 1, 2, 0, 0, 2, 1, 1, 2, 1, 3, 4, 1, 0, 3, 2, 3, 3, 4, 1, 1, 0, 3, 3, 1, 2, 3, 2, 1, 1, 3, 4, 3, 1, 4, 0, 4, 1, 1, 3, 4, 1, 0, 2, 0, 2, 1, 2, 3, 4, 1, 2, 2, 1, 4, 4, 3, 2, 0, 2, 2, 1, 0, 2, 3, 3, 0, 0, 2, 4, 1, 3, 2, 2, 4, 4, 0, 3, 0, 1, 3, 4, 2, 4, 4, 1, 1, 4, 0, 1, 2, 0, 4, 1, 4, 2, 4, 0, 1, 1, 1, 0, 2, 3, 0, 3, 1, 3, 4, 3, 0, 2, 0, 1, 1, 4, 0, 3, 0, 3, 3, 3, 1, 0, 3, 0, 0, 1, 0, 4, 3, 4, 2, 4, 2, 3, 2, 4, 3, 0, 3, 0, 3, 4, 4, 0, 2, 2, 1, 2, 1, 3, 4, 4, 0, 0, 4, 0, 0, 3, 1, 1, 0, 2, 3, 4, 2, 0, 1, 0]\n"
     ]
    }
   ],
   "source": [
    "print(y_test)"
   ]
  },
  {
   "cell_type": "code",
   "execution_count": 11,
   "metadata": {},
   "outputs": [
    {
     "name": "stdout",
     "output_type": "stream",
     "text": [
      "[[229   2  10   4   7]\n",
      " [  0 257   1   0   1]\n",
      " [  2   6 224  10   7]\n",
      " [ 22  15  26  96 100]\n",
      " [ 23  15   8  43 152]]\n"
     ]
    }
   ],
   "source": [
    "conf_mat = confusion_matrix(y_test, y_pred)\n",
    "print(conf_mat)"
   ]
  },
  {
   "cell_type": "code",
   "execution_count": 12,
   "metadata": {},
   "outputs": [
    {
     "name": "stdout",
     "output_type": "stream",
     "text": [
      "76.03174603174602 %\n"
     ]
    }
   ],
   "source": [
    "accuracy=accuracy_score(y_pred,y_test)\n",
    "print(accuracy*100,'%')"
   ]
  },
  {
   "cell_type": "markdown",
   "metadata": {},
   "source": [
    "Testing on unknown dataset"
   ]
  },
  {
   "cell_type": "code",
   "execution_count": null,
   "metadata": {},
   "outputs": [],
   "source": [
    "dataset = pd.read_csv(\"C:/Users/user/PythonProjects/document-data-extraction/data-extraction/testing/test_jdm_dv_lm_iv.csv\",header=None)\n",
    "x_testing = dataset.iloc[:,:]"
   ]
  },
  {
   "cell_type": "code",
   "execution_count": null,
   "metadata": {},
   "outputs": [],
   "source": [
    "sc = StandardScaler()\n",
    "x_testing = sc.transform(x_testing)"
   ]
  },
  {
   "cell_type": "code",
   "execution_count": null,
   "metadata": {},
   "outputs": [],
   "source": [
    "y_output=clf.predict(x_testing)\n",
    "y_output=y_output.argmax(axis=1)\n",
    "print(y_output)"
   ]
  }
 ],
 "metadata": {
  "kernelspec": {
   "display_name": "Python 3",
   "language": "python",
   "name": "python3"
  },
  "language_info": {
   "codemirror_mode": {
    "name": "ipython",
    "version": 3
   },
   "file_extension": ".py",
   "mimetype": "text/x-python",
   "name": "python",
   "nbconvert_exporter": "python",
   "pygments_lexer": "ipython3",
   "version": "3.6.4"
  }
 },
 "nbformat": 4,
 "nbformat_minor": 2
}
