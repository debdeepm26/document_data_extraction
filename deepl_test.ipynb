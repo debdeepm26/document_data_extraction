{
 "cells": [
  {
   "cell_type": "code",
   "execution_count": 18,
   "metadata": {},
   "outputs": [],
   "source": [
    "import numpy as np\n",
    "import pandas as pd\n",
    "import os\n",
    "import time\n",
    "from sklearn import model_selection\n",
    "from sklearn.preprocessing import StandardScaler\n",
    "from sklearn.metrics import accuracy_score\n",
    "from sklearn.metrics import confusion_matrix\n",
    "from imblearn.over_sampling import ADASYN\n",
    "from keras.models import model_from_json\n",
    "from keras.engine.topology import Layer, InputSpec\n",
    "from keras import initializers\n",
    "from keras.models import Model"
   ]
  },
  {
   "cell_type": "markdown",
   "metadata": {},
   "source": [
    "Load Model"
   ]
  },
  {
   "cell_type": "code",
   "execution_count": 57,
   "metadata": {},
   "outputs": [
    {
     "name": "stdout",
     "output_type": "stream",
     "text": [
      "Loaded model from disk\n"
     ]
    }
   ],
   "source": [
    "json_file = open('train3_wv_model.json', 'r')\n",
    "loaded_model_json = json_file.read()\n",
    "json_file.close()\n",
    "model = model_from_json(loaded_model_json)\n",
    "model.load_weights(\"train3_wv_model.h5\")\n",
    "print(\"Loaded model from disk\")"
   ]
  },
  {
   "cell_type": "code",
   "execution_count": 58,
   "metadata": {},
   "outputs": [],
   "source": [
    "dataset = pd.read_csv(\"C:/Users/user/PythonProjects/document-data-extraction/data-extraction/training_testing/train2_wv.csv\",header=None)\n",
    "n=len(dataset.columns)-1\n",
    "x_testing = dataset.iloc[:,0:n]\n",
    "y_testing = dataset.iloc[:,n].values"
   ]
  },
  {
   "cell_type": "code",
   "execution_count": 59,
   "metadata": {},
   "outputs": [],
   "source": [
    "X = dataset.iloc[:,0:n]\n",
    "Y = dataset.iloc[:,n].values\n",
    "X, Y = ADASYN().fit_sample(X, Y)\n",
    "Y1=[]\n",
    "for y in Y:\n",
    "    if(y=='AIMX'):\n",
    "        Y1.append(0)\n",
    "    if(y=='BASE'):\n",
    "        Y1.append(1)\n",
    "    if(y=='CONT'):\n",
    "        Y1.append(2)\n",
    "    if(y=='MISC'):\n",
    "        Y1.append(3)\n",
    "    if(y=='OWNX'):\n",
    "        Y1.append(4)\n",
    "x_train, x_test, y_train, y_test = model_selection.train_test_split(X, Y1, test_size = 0.30, random_state = 8)\n",
    "sc = StandardScaler()\n",
    "x_train = sc.fit_transform(x_train)\n",
    "x_test = sc.transform(x_test)"
   ]
  },
  {
   "cell_type": "code",
   "execution_count": 60,
   "metadata": {},
   "outputs": [],
   "source": [
    "y_testing1=[]\n",
    "for y in y_testing:\n",
    "    if(y=='AIMX'):\n",
    "        y_testing1.append(0)\n",
    "    if(y=='BASE'):\n",
    "        y_testing1.append(1)\n",
    "    if(y=='CONT'):\n",
    "        y_testing1.append(2)\n",
    "    if(y=='MISC'):\n",
    "        y_testing1.append(3)\n",
    "    if(y=='OWNX'):\n",
    "        y_testing1.append(4)\n",
    "x_testing = sc.transform(x_testing)\n",
    "x_testing1=np.reshape(x_testing,(x_testing.shape[0],x_testing.shape[1],1))"
   ]
  },
  {
   "cell_type": "code",
   "execution_count": 61,
   "metadata": {},
   "outputs": [],
   "source": [
    "y_pred1 = model.predict(x_testing1)\n",
    "y_pred=np.argmax(y_pred1,axis=1)"
   ]
  },
  {
   "cell_type": "code",
   "execution_count": 62,
   "metadata": {},
   "outputs": [
    {
     "name": "stdout",
     "output_type": "stream",
     "text": [
      "[[ 46   0   1   4  16]\n",
      " [  0  10   0   6   7]\n",
      " [  0   0  26  15   3]\n",
      " [  4   1  18 525  42]\n",
      " [ 13   5   3  87 192]]\n"
     ]
    }
   ],
   "source": [
    "conf_mat = confusion_matrix(y_testing1, y_pred)\n",
    "print(conf_mat)"
   ]
  },
  {
   "cell_type": "code",
   "execution_count": 63,
   "metadata": {},
   "outputs": [
    {
     "name": "stdout",
     "output_type": "stream",
     "text": [
      "78.02734375 %\n"
     ]
    }
   ],
   "source": [
    "accuracy=accuracy_score(y_pred,y_testing1)\n",
    "print(accuracy*100,'%')"
   ]
  },
  {
   "cell_type": "code",
   "execution_count": null,
   "metadata": {},
   "outputs": [],
   "source": []
  }
 ],
 "metadata": {
  "kernelspec": {
   "display_name": "Python 3",
   "language": "python",
   "name": "python3"
  },
  "language_info": {
   "codemirror_mode": {
    "name": "ipython",
    "version": 3
   },
   "file_extension": ".py",
   "mimetype": "text/x-python",
   "name": "python",
   "nbconvert_exporter": "python",
   "pygments_lexer": "ipython3",
   "version": "3.6.4"
  }
 },
 "nbformat": 4,
 "nbformat_minor": 2
}
