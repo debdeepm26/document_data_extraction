{
 "cells": [
  {
   "cell_type": "code",
   "execution_count": 1,
   "metadata": {},
   "outputs": [
    {
     "name": "stderr",
     "output_type": "stream",
     "text": [
      "C:\\Users\\user\\Anaconda3\\lib\\site-packages\\gensim\\utils.py:1197: UserWarning: detected Windows; aliasing chunkize to chunkize_serial\n",
      "  warnings.warn(\"detected Windows; aliasing chunkize to chunkize_serial\")\n"
     ]
    }
   ],
   "source": [
    "from gensim.models.doc2vec import Doc2Vec, TaggedDocument\n",
    "from nltk.tokenize import word_tokenize\n",
    "import multiprocessing\n",
    "import gensim.models.doc2vec\n",
    "import csv"
   ]
  },
  {
   "cell_type": "code",
   "execution_count": 2,
   "metadata": {},
   "outputs": [
    {
     "name": "stdout",
     "output_type": "stream",
     "text": [
      "cores present: 8\n"
     ]
    }
   ],
   "source": [
    "cores = multiprocessing.cpu_count()\n",
    "print(\"cores present:\",cores)\n",
    "assert gensim.models.doc2vec.FAST_VERSION > -1"
   ]
  },
  {
   "cell_type": "code",
   "execution_count": null,
   "metadata": {},
   "outputs": [],
   "source": [
    "document=open('C:/Users/user/PythonProjects/document-data-extraction/data-extraction/testing/test_jdm.txt')\n",
    "lines = document.readlines()"
   ]
  },
  {
   "cell_type": "code",
   "execution_count": null,
   "metadata": {},
   "outputs": [],
   "source": [
    "text=[]\n",
    "for line in lines:\n",
    "    line=line.strip('\\n')\n",
    "    text.append(line)"
   ]
  },
  {
   "cell_type": "code",
   "execution_count": null,
   "metadata": {},
   "outputs": [],
   "source": [
    "file='C:/Users/user/PythonProjects/document-data-extraction/data-extraction/testing/test_jdm_dv_lm_iv.csv'\n",
    "myFile = open(file, 'w', newline='')\n",
    "model= Doc2Vec.load(\"d2v_3_lm.model\")\n",
    "m=len(model.docvecs[0])\n",
    "n=len(text)\n",
    "print(m,n)\n",
    "for j in range (0,n):\n",
    "    line=text[j].split()\n",
    "    v1 = model.infer_vector(line)\n",
    "    c=[]\n",
    "    for i in range (0,m):\n",
    "        c.insert(i,v1[i])\n",
    "    writer = csv.writer(myFile)\n",
    "    writer.writerow(map(lambda x: x,c))\n",
    "z = csv.reader(myFile, delimiter='\\t')\n",
    "myFile.close()\n",
    "myFile = open(file, 'r')\n",
    "myFile.close()\n",
    "print(\"writing complete\")"
   ]
  }
 ],
 "metadata": {
  "kernelspec": {
   "display_name": "Python 3",
   "language": "python",
   "name": "python3"
  },
  "language_info": {
   "codemirror_mode": {
    "name": "ipython",
    "version": 3
   },
   "file_extension": ".py",
   "mimetype": "text/x-python",
   "name": "python",
   "nbconvert_exporter": "python",
   "pygments_lexer": "ipython3",
   "version": "3.6.4"
  }
 },
 "nbformat": 4,
 "nbformat_minor": 2
}
