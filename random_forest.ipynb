{
 "cells": [
  {
   "cell_type": "code",
   "execution_count": 1,
   "metadata": {},
   "outputs": [],
   "source": [
    "import numpy as np\n",
    "import pandas as pd\n",
    "from sklearn import model_selection\n",
    "from sklearn.ensemble import RandomForestClassifier\n",
    "from sklearn.metrics import accuracy_score\n",
    "from sklearn.metrics import confusion_matrix\n",
    "from imblearn.over_sampling import ADASYN"
   ]
  },
  {
   "cell_type": "code",
   "execution_count": 2,
   "metadata": {},
   "outputs": [],
   "source": [
    "dataset = pd.read_csv(\"C:/Users/user/PythonProjects/document-data-extraction/data-extraction/training/train3_dv_lm_iv.csv\",header=None)\n",
    "n=len(dataset.columns)-1"
   ]
  },
  {
   "cell_type": "code",
   "execution_count": 3,
   "metadata": {},
   "outputs": [],
   "source": [
    "X = dataset.iloc[:,0:n]\n",
    "Y = dataset.iloc[:,n].values\n",
    "X, Y = ADASYN().fit_sample(X, Y)"
   ]
  },
  {
   "cell_type": "code",
   "execution_count": 4,
   "metadata": {},
   "outputs": [
    {
     "name": "stdout",
     "output_type": "stream",
     "text": [
      "[641, 627, 616, 623, 642]\n"
     ]
    }
   ],
   "source": [
    "Y1=[]\n",
    "i=[0,0,0,0,0]\n",
    "for y in Y:\n",
    "    if(y=='AIMX'):\n",
    "        Y1.append(1)\n",
    "        i[0]=i[0]+1\n",
    "    if(y=='BASE'):\n",
    "        Y1.append(2)\n",
    "        i[1]=i[1]+1\n",
    "    if(y=='CONT'):\n",
    "        Y1.append(3)\n",
    "        i[2]=i[2]+1\n",
    "    if(y=='MISC'):\n",
    "        Y1.append(4)\n",
    "        i[3]=i[3]+1\n",
    "    if(y=='OWNX'):\n",
    "        Y1.append(5)\n",
    "        i[4]=i[4]+1\n",
    "print(i)"
   ]
  },
  {
   "cell_type": "code",
   "execution_count": 8,
   "metadata": {},
   "outputs": [],
   "source": [
    "x_train, x_test, y_train, y_test = model_selection.train_test_split(X, Y1, test_size = 0.40, random_state = 8)"
   ]
  },
  {
   "cell_type": "code",
   "execution_count": 9,
   "metadata": {},
   "outputs": [
    {
     "name": "stdout",
     "output_type": "stream",
     "text": [
      "RandomForestClassifier(bootstrap=0.001, class_weight=None, criterion='gini',\n",
      "            max_depth=None, max_features='auto', max_leaf_nodes=None,\n",
      "            min_impurity_decrease=0.0, min_impurity_split=None,\n",
      "            min_samples_leaf=1, min_samples_split=2,\n",
      "            min_weight_fraction_leaf=0.0, n_estimators=5, n_jobs=-1,\n",
      "            oob_score=False, random_state=None, verbose=0,\n",
      "            warm_start=False)\n"
     ]
    }
   ],
   "source": [
    "clf = RandomForestClassifier(n_estimators = 5, bootstrap=0.001,n_jobs=-1)\n",
    "trained_model = clf.fit(x_train, y_train)\n",
    "print(trained_model)"
   ]
  },
  {
   "cell_type": "code",
   "execution_count": 10,
   "metadata": {},
   "outputs": [
    {
     "name": "stdout",
     "output_type": "stream",
     "text": [
      "[2 5 1 ... 1 2 1]\n"
     ]
    }
   ],
   "source": [
    "y_pred=trained_model.predict(x_test)\n",
    "print(y_pred)"
   ]
  },
  {
   "cell_type": "code",
   "execution_count": 11,
   "metadata": {},
   "outputs": [
    {
     "name": "stdout",
     "output_type": "stream",
     "text": [
      "[2, 5, 1, 1, 1, 1, 5, 1, 2, 4, 2, 2, 1, 1, 3, 4, 5, 2, 4, 1, 2, 1, 1, 2, 2, 1, 4, 5, 1, 5, 5, 1, 5, 3, 1, 5, 3, 4, 3, 3, 1, 1, 5, 4, 4, 3, 2, 4, 3, 1, 2, 5, 1, 1, 2, 2, 5, 5, 4, 5, 4, 4, 1, 2, 5, 1, 2, 2, 4, 5, 4, 4, 5, 5, 1, 3, 3, 4, 4, 2, 5, 5, 1, 5, 5, 2, 4, 5, 2, 5, 3, 1, 3, 2, 5, 5, 3, 1, 3, 1, 3, 3, 4, 5, 5, 5, 1, 4, 1, 5, 3, 5, 4, 5, 1, 2, 5, 2, 3, 4, 3, 3, 4, 3, 2, 1, 5, 4, 1, 1, 5, 2, 5, 2, 4, 4, 4, 5, 4, 3, 1, 4, 1, 4, 4, 3, 3, 3, 1, 5, 2, 4, 1, 3, 3, 1, 3, 3, 5, 3, 3, 5, 5, 1, 4, 1, 2, 4, 3, 4, 5, 3, 2, 3, 1, 5, 2, 4, 2, 3, 1, 1, 2, 2, 5, 1, 1, 4, 4, 4, 2, 3, 4, 1, 1, 1, 4, 5, 1, 2, 1, 1, 3, 1, 5, 5, 5, 1, 2, 5, 3, 1, 4, 4, 3, 3, 2, 2, 3, 3, 1, 1, 5, 4, 2, 3, 2, 5, 3, 4, 3, 4, 3, 2, 5, 2, 3, 2, 2, 3, 4, 3, 2, 2, 1, 3, 1, 2, 4, 2, 3, 3, 2, 2, 3, 4, 3, 4, 3, 1, 4, 3, 5, 1, 4, 2, 1, 2, 4, 1, 2, 5, 5, 2, 1, 2, 3, 2, 4, 3, 5, 4, 1, 5, 3, 5, 2, 2, 2, 1, 4, 2, 5, 4, 2, 2, 4, 3, 1, 1, 1, 2, 3, 4, 4, 1, 3, 3, 1, 1, 3, 1, 2, 2, 2, 4, 1, 5, 5, 5, 3, 2, 2, 5, 1, 4, 1, 2, 1, 2, 4, 3, 4, 4, 5, 4, 5, 3, 2, 3, 2, 3, 4, 1, 3, 5, 2, 2, 4, 3, 3, 3, 5, 5, 4, 1, 1, 3, 4, 5, 4, 1, 2, 3, 4, 5, 2, 3, 2, 2, 4, 2, 4, 3, 3, 4, 5, 3, 3, 3, 4, 2, 2, 2, 5, 1, 3, 1, 4, 1, 5, 4, 3, 4, 3, 2, 5, 1, 2, 2, 4, 4, 4, 5, 4, 2, 3, 3, 2, 1, 2, 3, 1, 1, 5, 5, 3, 3, 5, 4, 2, 3, 5, 3, 4, 1, 2, 5, 5, 3, 3, 3, 2, 4, 2, 2, 3, 5, 2, 5, 3, 4, 1, 1, 5, 1, 2, 1, 1, 3, 2, 1, 2, 3, 2, 2, 2, 2, 3, 1, 5, 5, 2, 3, 5, 2, 4, 4, 5, 3, 2, 5, 5, 1, 2, 4, 5, 3, 2, 3, 5, 5, 4, 4, 1, 2, 5, 2, 4, 5, 3, 3, 1, 3, 1, 3, 3, 2, 5, 4, 1, 3, 2, 3, 5, 2, 3, 4, 2, 2, 3, 4, 5, 5, 1, 1, 2, 3, 1, 2, 4, 1, 2, 4, 4, 4, 1, 4, 5, 5, 4, 5, 4, 4, 5, 2, 4, 2, 5, 4, 2, 1, 2, 1, 5, 2, 4, 5, 3, 2, 4, 5, 4, 4, 5, 5, 4, 3, 1, 3, 2, 2, 4, 3, 3, 4, 4, 2, 1, 5, 4, 1, 2, 2, 1, 5, 4, 1, 1, 3, 4, 1, 4, 1, 2, 4, 3, 1, 1, 1, 5, 5, 3, 3, 2, 4, 4, 1, 2, 4, 4, 3, 4, 2, 5, 3, 5, 2, 1, 5, 3, 4, 2, 5, 4, 2, 5, 2, 3, 4, 2, 1, 2, 4, 2, 4, 5, 4, 2, 5, 4, 3, 2, 1, 2, 5, 5, 3, 4, 1, 5, 1, 2, 5, 2, 1, 1, 1, 5, 4, 1, 1, 1, 5, 3, 3, 3, 4, 2, 2, 4, 5, 5, 1, 5, 2, 4, 3, 1, 5, 5, 4, 3, 2, 1, 2, 3, 5, 1, 5, 3, 4, 5, 5, 5, 3, 2, 2, 5, 4, 5, 5, 3, 4, 1, 1, 5, 1, 2, 1, 5, 3, 5, 4, 2, 3, 4, 1, 3, 2, 3, 5, 4, 3, 5, 4, 2, 4, 5, 1, 3, 3, 3, 2, 3, 4, 3, 5, 3, 5, 2, 5, 2, 3, 1, 2, 1, 5, 2, 3, 4, 2, 2, 2, 2, 3, 1, 3, 4, 2, 1, 5, 5, 2, 1, 4, 2, 5, 4, 1, 2, 4, 2, 3, 5, 2, 5, 1, 4, 3, 5, 5, 3, 1, 2, 1, 1, 4, 4, 4, 1, 2, 1, 1, 4, 2, 3, 1, 1, 5, 1, 3, 2, 4, 1, 5, 5, 2, 4, 1, 4, 1, 2, 3, 3, 4, 1, 1, 5, 5, 4, 5, 4, 1, 3, 4, 4, 3, 1, 4, 1, 2, 5, 1, 1, 3, 3, 5, 3, 3, 1, 1, 1, 5, 2, 3, 1, 1, 3, 3, 2, 5, 2, 2, 3, 1, 4, 2, 5, 3, 1, 1, 3, 4, 1, 2, 4, 3, 3, 1, 4, 4, 3, 3, 5, 4, 2, 4, 3, 2, 3, 3, 3, 5, 1, 3, 1, 4, 1, 2, 1, 4, 5, 4, 2, 2, 2, 3, 4, 5, 2, 2, 1, 2, 2, 4, 5, 2, 5, 2, 4, 3, 3, 4, 4, 4, 1, 4, 5, 4, 5, 3, 4, 5, 1, 3, 5, 1, 3, 4, 1, 2, 4, 5, 2, 2, 5, 5, 4, 2, 3, 5, 3, 2, 2, 4, 4, 3, 4, 2, 3, 2, 3, 4, 5, 3, 1, 4, 5, 5, 4, 4, 1, 1, 4, 3, 5, 5, 5, 4, 3, 1, 4, 3, 1, 2, 1, 2, 2, 2, 3, 3, 3, 4, 2, 5, 5, 3, 4, 1, 2, 4, 3, 1, 5, 1, 4, 5, 4, 4, 5, 4, 2, 3, 1, 4, 5, 3, 5, 4, 5, 5, 4, 4, 1, 2, 4, 1, 4, 2, 5, 3, 1, 5, 2, 1, 2, 3, 4, 2, 1, 2, 1, 5, 1, 4, 1, 1, 4, 5, 2, 4, 5, 3, 5, 2, 5, 5, 4, 2, 2, 3, 1, 3, 2, 1, 1, 1, 5, 5, 4, 3, 4, 3, 5, 5, 1, 5, 3, 4, 3, 4, 2, 1, 2, 1, 3, 3, 4, 5, 4, 3, 3, 2, 3, 2, 1, 4, 3, 4, 4, 1, 1, 4, 5, 4, 1, 1, 3, 3, 1, 2, 3, 1, 1, 3, 2, 2, 3, 2, 4, 5, 2, 1, 4, 3, 4, 4, 5, 2, 2, 1, 4, 4, 2, 3, 4, 3, 2, 2, 4, 5, 4, 2, 5, 1, 5, 2, 2, 4, 5, 2, 1, 3, 1, 3, 2, 3, 4, 5, 2, 3, 3, 2, 5, 5, 4, 3, 1, 3, 3, 2, 1, 3, 4, 4, 1, 1, 3, 5, 2, 4, 3, 3, 5, 5, 1, 4, 1, 2, 4, 5, 3, 5, 5, 2, 2, 5, 1, 2, 3, 1, 5, 2, 5, 3, 5, 1, 2, 2, 2, 1, 3, 4, 1, 4, 2, 4, 5, 4, 1, 3, 1, 2, 2, 5, 1, 4, 1, 4, 4, 4, 2, 1, 4, 1, 1, 2, 1, 5, 4, 5, 3, 5, 3, 4, 3, 5, 4, 1, 4, 1, 4, 5, 5, 1, 3, 3, 2, 3, 2, 4, 5, 5, 1, 1, 5, 1, 1, 4, 2, 2, 1, 3, 4, 5, 3, 1, 2, 1]\n"
     ]
    }
   ],
   "source": [
    "print(y_test)"
   ]
  },
  {
   "cell_type": "code",
   "execution_count": 12,
   "metadata": {},
   "outputs": [
    {
     "name": "stdout",
     "output_type": "stream",
     "text": [
      "[[235   0   6   9   2]\n",
      " [  2 256   0   0   1]\n",
      " [  9   1 219  13   7]\n",
      " [ 45   8  31  94  81]\n",
      " [ 42   6  11  66 116]]\n"
     ]
    }
   ],
   "source": [
    "conf_mat = confusion_matrix(y_test,y_pred)\n",
    "print(conf_mat)"
   ]
  },
  {
   "cell_type": "code",
   "execution_count": 13,
   "metadata": {},
   "outputs": [
    {
     "name": "stdout",
     "output_type": "stream",
     "text": [
      "73.01587301587301%\n"
     ]
    }
   ],
   "source": [
    "accuracy=accuracy_score(y_pred,y_test)\n",
    "print(str(accuracy*100)+'%')"
   ]
  },
  {
   "cell_type": "markdown",
   "metadata": {},
   "source": [
    "Testing on unknown dataset "
   ]
  },
  {
   "cell_type": "code",
   "execution_count": null,
   "metadata": {},
   "outputs": [],
   "source": [
    "dataset = pd.read_csv(\"C:/Users/user/PythonProjects/document-data-extraction/data-extraction/testing/test_jdm_dv_lm_iv.csv\",header=None)\n",
    "x_testing = dataset.iloc[:,:]"
   ]
  },
  {
   "cell_type": "code",
   "execution_count": null,
   "metadata": {},
   "outputs": [],
   "source": [
    "y_output=trained_model.predict(x_output)\n",
    "print(y_output)"
   ]
  }
 ],
 "metadata": {
  "kernelspec": {
   "display_name": "Python 3",
   "language": "python",
   "name": "python3"
  },
  "language_info": {
   "codemirror_mode": {
    "name": "ipython",
    "version": 3
   },
   "file_extension": ".py",
   "mimetype": "text/x-python",
   "name": "python",
   "nbconvert_exporter": "python",
   "pygments_lexer": "ipython3",
   "version": "3.6.4"
  }
 },
 "nbformat": 4,
 "nbformat_minor": 2
}
