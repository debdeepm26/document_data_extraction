{
 "cells": [
  {
   "cell_type": "code",
   "execution_count": 2,
   "metadata": {},
   "outputs": [],
   "source": [
    "import numpy as np\n",
    "import pandas as pd\n",
    "from sklearn import model_selection\n",
    "from sklearn.ensemble import RandomForestClassifier\n",
    "from sklearn.metrics import accuracy_score\n",
    "from sklearn.metrics import confusion_matrix\n",
    "from imblearn.over_sampling import ADASYN"
   ]
  },
  {
   "cell_type": "code",
   "execution_count": 162,
   "metadata": {},
   "outputs": [],
   "source": [
    "dataset = pd.read_csv(\"C:/Users/user/PythonProjects/document-data-extraction/data-extraction/training_testing/train3_dv_iv.csv\",header=None)\n",
    "n=len(dataset.columns)-1"
   ]
  },
  {
   "cell_type": "code",
   "execution_count": 163,
   "metadata": {},
   "outputs": [],
   "source": [
    "X = dataset.iloc[:,0:n]\n",
    "Y = dataset.iloc[:,n].values\n",
    "X, Y = ADASYN().fit_sample(X, Y)"
   ]
  },
  {
   "cell_type": "code",
   "execution_count": 164,
   "metadata": {},
   "outputs": [
    {
     "name": "stdout",
     "output_type": "stream",
     "text": [
      "[603, 630, 630, 623, 620]\n"
     ]
    }
   ],
   "source": [
    "Y1=[]\n",
    "i=[0,0,0,0,0]\n",
    "for y in Y:\n",
    "    if(y=='AIMX'):\n",
    "        Y1.append(1)\n",
    "        i[0]=i[0]+1\n",
    "    if(y=='BASE'):\n",
    "        Y1.append(2)\n",
    "        i[1]=i[1]+1\n",
    "    if(y=='CONT'):\n",
    "        Y1.append(3)\n",
    "        i[2]=i[2]+1\n",
    "    if(y=='MISC'):\n",
    "        Y1.append(4)\n",
    "        i[3]=i[3]+1\n",
    "    if(y=='OWNX'):\n",
    "        Y1.append(5)\n",
    "        i[4]=i[4]+1\n",
    "print(i)"
   ]
  },
  {
   "cell_type": "code",
   "execution_count": 165,
   "metadata": {},
   "outputs": [],
   "source": [
    "x_train, x_test, y_train, y_test = model_selection.train_test_split(X, Y1, test_size = 0.40, random_state = 8)"
   ]
  },
  {
   "cell_type": "code",
   "execution_count": 166,
   "metadata": {},
   "outputs": [
    {
     "name": "stdout",
     "output_type": "stream",
     "text": [
      "RandomForestClassifier(bootstrap=0.001, class_weight=None, criterion='gini',\n",
      "            max_depth=None, max_features='auto', max_leaf_nodes=None,\n",
      "            min_impurity_decrease=0.0, min_impurity_split=None,\n",
      "            min_samples_leaf=1, min_samples_split=2,\n",
      "            min_weight_fraction_leaf=0.0, n_estimators=5, n_jobs=-1,\n",
      "            oob_score=False, random_state=None, verbose=0,\n",
      "            warm_start=False)\n"
     ]
    }
   ],
   "source": [
    "clf = RandomForestClassifier(n_estimators = 5, bootstrap=0.001,n_jobs=-1)\n",
    "trained_model = clf.fit(x_train, y_train)\n",
    "print(trained_model)"
   ]
  },
  {
   "cell_type": "code",
   "execution_count": 167,
   "metadata": {},
   "outputs": [
    {
     "name": "stdout",
     "output_type": "stream",
     "text": [
      "[5 5 3 ... 5 3 4]\n"
     ]
    }
   ],
   "source": [
    "y_pred=trained_model.predict(x_test)\n",
    "print(y_pred)"
   ]
  },
  {
   "cell_type": "code",
   "execution_count": 168,
   "metadata": {},
   "outputs": [
    {
     "name": "stdout",
     "output_type": "stream",
     "text": [
      "[1, 4, 3, 4, 3, 3, 5, 4, 5, 5, 4, 1, 1, 3, 5, 2, 2, 3, 1, 4, 1, 2, 5, 2, 5, 3, 2, 2, 2, 1, 4, 3, 4, 1, 3, 3, 4, 3, 5, 5, 3, 5, 5, 5, 1, 4, 3, 5, 5, 3, 1, 5, 3, 4, 5, 3, 3, 2, 4, 2, 4, 1, 4, 3, 2, 1, 5, 4, 4, 4, 3, 5, 5, 1, 5, 1, 5, 2, 2, 5, 1, 5, 3, 5, 4, 4, 1, 2, 1, 3, 3, 3, 1, 1, 3, 2, 5, 5, 5, 3, 3, 5, 4, 4, 4, 2, 5, 1, 2, 1, 5, 3, 1, 1, 5, 4, 3, 2, 3, 4, 1, 5, 2, 3, 2, 2, 4, 4, 4, 5, 1, 4, 2, 2, 5, 2, 3, 4, 3, 1, 5, 2, 5, 5, 2, 3, 2, 2, 4, 1, 2, 5, 4, 5, 3, 5, 3, 4, 3, 1, 3, 5, 4, 3, 1, 3, 5, 1, 4, 5, 3, 4, 2, 3, 5, 1, 5, 2, 2, 2, 3, 3, 4, 2, 3, 1, 1, 2, 4, 5, 2, 3, 3, 1, 3, 1, 4, 4, 5, 1, 2, 2, 3, 5, 1, 3, 4, 5, 3, 1, 1, 2, 5, 1, 1, 5, 4, 4, 5, 2, 4, 2, 2, 4, 4, 1, 1, 2, 1, 4, 2, 1, 5, 2, 4, 1, 4, 5, 3, 3, 4, 1, 3, 1, 2, 1, 4, 1, 4, 5, 2, 3, 1, 5, 4, 1, 5, 3, 5, 2, 3, 4, 5, 2, 5, 4, 2, 4, 2, 2, 3, 3, 4, 4, 3, 1, 4, 1, 1, 5, 2, 1, 4, 1, 1, 5, 2, 2, 4, 2, 5, 5, 5, 5, 3, 2, 1, 4, 4, 3, 5, 1, 5, 4, 5, 3, 3, 2, 4, 2, 5, 2, 3, 5, 4, 4, 2, 4, 2, 4, 1, 4, 1, 3, 5, 3, 1, 2, 2, 2, 4, 4, 5, 2, 1, 2, 1, 2, 4, 5, 4, 2, 3, 3, 5, 2, 4, 4, 4, 4, 3, 2, 2, 5, 2, 2, 5, 2, 4, 1, 2, 1, 5, 2, 5, 2, 3, 4, 4, 3, 1, 3, 1, 3, 4, 5, 1, 1, 2, 3, 2, 1, 1, 5, 2, 3, 4, 4, 2, 2, 1, 3, 2, 2, 2, 5, 3, 1, 5, 2, 3, 2, 2, 4, 1, 1, 5, 2, 4, 5, 5, 2, 3, 1, 2, 5, 2, 5, 4, 2, 3, 4, 3, 3, 5, 3, 3, 5, 5, 5, 2, 3, 4, 1, 1, 4, 3, 2, 2, 4, 5, 1, 4, 5, 2, 3, 5, 2, 1, 4, 3, 2, 5, 2, 4, 2, 2, 1, 1, 2, 4, 1, 4, 1, 1, 3, 3, 4, 1, 4, 1, 5, 5, 5, 4, 3, 1, 3, 3, 4, 4, 1, 3, 3, 4, 3, 1, 2, 4, 2, 3, 4, 4, 1, 4, 3, 1, 3, 3, 5, 4, 2, 3, 2, 5, 1, 1, 2, 2, 3, 4, 5, 1, 5, 4, 2, 4, 4, 2, 4, 4, 1, 2, 4, 3, 3, 4, 2, 3, 2, 3, 4, 2, 5, 2, 3, 1, 5, 4, 1, 5, 5, 2, 3, 4, 3, 1, 3, 4, 1, 3, 1, 5, 1, 5, 1, 2, 1, 1, 1, 3, 1, 1, 4, 4, 5, 2, 4, 3, 5, 4, 2, 4, 3, 5, 2, 3, 2, 4, 4, 3, 2, 2, 2, 2, 3, 4, 4, 2, 1, 4, 1, 4, 5, 4, 5, 5, 4, 4, 3, 5, 5, 3, 1, 5, 5, 1, 1, 3, 5, 3, 1, 5, 4, 1, 1, 3, 5, 3, 3, 5, 5, 2, 3, 4, 5, 5, 1, 5, 3, 1, 1, 4, 5, 1, 3, 3, 3, 1, 5, 2, 3, 2, 5, 3, 4, 3, 3, 1, 2, 2, 4, 5, 1, 4, 2, 1, 1, 5, 1, 4, 5, 1, 5, 4, 5, 3, 1, 3, 3, 2, 2, 2, 4, 3, 3, 3, 3, 2, 2, 5, 1, 2, 2, 2, 4, 5, 5, 1, 1, 2, 5, 4, 1, 1, 5, 4, 2, 5, 4, 1, 2, 2, 1, 3, 3, 1, 4, 2, 3, 2, 1, 5, 2, 1, 4, 3, 3, 4, 2, 2, 3, 5, 5, 1, 4, 2, 2, 1, 3, 1, 2, 1, 4, 4, 5, 5, 4, 2, 2, 2, 2, 1, 1, 5, 1, 1, 2, 4, 1, 3, 3, 2, 4, 1, 4, 2, 3, 3, 1, 4, 1, 3, 5, 3, 5, 4, 3, 1, 4, 4, 2, 3, 3, 1, 5, 5, 1, 3, 1, 1, 5, 1, 1, 3, 1, 1, 2, 2, 2, 2, 1, 3, 3, 2, 2, 2, 5, 1, 1, 4, 3, 5, 2, 5, 4, 3, 4, 3, 2, 4, 3, 3, 1, 4, 4, 5, 3, 5, 4, 2, 4, 1, 2, 3, 5, 5, 5, 1, 3, 1, 5, 5, 2, 2, 4, 2, 3, 3, 2, 2, 3, 4, 5, 1, 2, 1, 1, 5, 4, 5, 3, 5, 5, 4, 5, 3, 4, 4, 4, 1, 4, 3, 4, 5, 3, 2, 1, 5, 1, 3, 4, 5, 2, 4, 3, 3, 5, 5, 4, 2, 1, 1, 3, 3, 2, 4, 4, 3, 2, 2, 2, 2, 3, 4, 5, 1, 4, 5, 5, 4, 4, 3, 3, 4, 1, 5, 5, 3, 4, 1, 3, 1, 1, 2, 2, 4, 1, 1, 3, 3, 3, 4, 3, 5, 5, 3, 4, 2, 2, 4, 2, 1, 1, 5, 4, 1, 4, 4, 5, 4, 5, 4, 3, 2, 2, 5, 4, 5, 5, 4, 4, 3, 2, 4, 3, 4, 3, 5, 2, 3, 5, 2, 3, 2, 4, 2, 1, 3, 2, 3, 1, 4, 5, 5, 3, 4, 5, 1, 2, 4, 1, 3, 1, 4, 1, 2, 5, 2, 2, 5, 4, 4, 2, 5, 2, 4, 1, 5, 1, 1, 4, 2, 1, 4, 3, 2, 2, 3, 2, 4, 1, 5, 3, 3, 2, 3, 1, 1, 1, 3, 4, 2, 3, 4, 2, 3, 3, 1, 5, 3, 4, 3, 4, 3, 1, 3, 2, 3, 2, 4, 5, 4, 2, 3, 2, 3, 3, 2, 4, 3, 4, 4, 1, 4, 4, 1, 5, 1, 5, 2, 3, 2, 2, 3, 1, 2, 3, 2, 4, 5, 2, 2, 4, 5, 4, 4, 5, 2, 1, 4, 4, 2, 1, 4, 5, 2, 2, 4, 5, 4, 5, 3, 5, 2, 3, 4, 5, 2, 1, 3, 1, 3, 2, 3, 4, 2, 3, 1, 3, 5, 2, 5, 4, 3, 1, 3, 1, 2, 3, 3, 4, 4, 1, 1, 3, 5, 2, 4, 3, 3, 3, 1, 4, 1, 1, 4, 2, 3, 5, 5, 2, 5, 1, 1, 2, 1, 5, 2, 1, 5, 5, 1, 2, 1, 1, 4, 1, 4, 2, 4, 5, 4, 3, 3, 1, 2, 2, 5, 3, 4, 1, 4, 4, 4, 1, 2, 4, 1, 2, 3, 1, 5, 4, 5, 5, 1, 4, 1, 5, 4, 3, 4, 1, 4, 3, 1, 3, 1, 2, 2, 1, 4, 5, 5, 1, 2, 5, 1, 4, 2, 2, 1, 3, 4, 5, 1, 5, 3, 1, 5, 1, 2, 3, 5, 3, 4, 5, 4, 2, 4, 1, 2, 2, 2, 4, 2, 5, 5, 1, 5, 3, 5]\n"
     ]
    }
   ],
   "source": [
    "print(y_test)"
   ]
  },
  {
   "cell_type": "code",
   "execution_count": 169,
   "metadata": {},
   "outputs": [
    {
     "name": "stdout",
     "output_type": "stream",
     "text": [
      "[[222   0   4  12   6]\n",
      " [  4 252   0   0   0]\n",
      " [  7   4 216  21   1]\n",
      " [ 50  11  38 100  61]\n",
      " [ 30   4  21  69 110]]\n"
     ]
    }
   ],
   "source": [
    "conf_mat = confusion_matrix(y_test,y_pred)\n",
    "print(conf_mat)"
   ]
  },
  {
   "cell_type": "code",
   "execution_count": 170,
   "metadata": {},
   "outputs": [
    {
     "name": "stdout",
     "output_type": "stream",
     "text": [
      "72.40547063555913%\n"
     ]
    }
   ],
   "source": [
    "accuracy=accuracy_score(y_pred,y_test)\n",
    "print(str(accuracy*100)+'%')"
   ]
  },
  {
   "cell_type": "markdown",
   "metadata": {},
   "source": [
    "Testing on unknown dataset "
   ]
  },
  {
   "cell_type": "code",
   "execution_count": 171,
   "metadata": {},
   "outputs": [],
   "source": [
    "dataset = pd.read_csv(\"C:/Users/user/PythonProjects/document-data-extraction/data-extraction/training_testing/train2_dv_iv.csv\",header=None)\n",
    "n=len(dataset.columns)-1\n",
    "x_testing = dataset.iloc[:,0:n]\n",
    "y_testing = dataset.iloc[:,n].values"
   ]
  },
  {
   "cell_type": "code",
   "execution_count": 172,
   "metadata": {},
   "outputs": [],
   "source": [
    "y_testing1=[]\n",
    "for y in y_testing:\n",
    "    if(y=='AIMX'):\n",
    "        y_testing1.append(1)\n",
    "    if(y=='BASE'):\n",
    "        y_testing1.append(2)\n",
    "    if(y=='CONT'):\n",
    "        y_testing1.append(3)\n",
    "    if(y=='MISC'):\n",
    "        y_testing1.append(4)\n",
    "    if(y=='OWNX'):\n",
    "        y_testing1.append(5)"
   ]
  },
  {
   "cell_type": "code",
   "execution_count": 173,
   "metadata": {},
   "outputs": [
    {
     "name": "stdout",
     "output_type": "stream",
     "text": [
      "[1 2 5 ... 4 4 1]\n"
     ]
    }
   ],
   "source": [
    "y_output=trained_model.predict(x_testing)\n",
    "print(y_output)"
   ]
  },
  {
   "cell_type": "code",
   "execution_count": 174,
   "metadata": {},
   "outputs": [
    {
     "name": "stdout",
     "output_type": "stream",
     "text": [
      "[4, 4, 4, 1, 5, 5, 5, 4, 3, 4, 4, 4, 4, 4, 4, 4, 4, 4, 4, 4, 4, 4, 4, 4, 4, 4, 4, 4, 4, 4, 4, 4, 1, 5, 5, 5, 5, 4, 4, 4, 4, 4, 4, 4, 4, 4, 4, 4, 4, 4, 4, 4, 4, 4, 4, 4, 4, 4, 4, 5, 5, 5, 5, 5, 5, 5, 5, 4, 1, 5, 5, 5, 4, 4, 4, 4, 4, 4, 4, 4, 4, 4, 4, 4, 4, 4, 4, 4, 4, 1, 1, 5, 5, 5, 5, 5, 2, 5, 5, 5, 1, 5, 1, 4, 4, 4, 4, 4, 4, 4, 4, 4, 4, 4, 4, 4, 4, 4, 4, 4, 1, 5, 1, 5, 4, 4, 5, 5, 4, 4, 4, 2, 1, 5, 1, 5, 4, 4, 4, 4, 4, 1, 1, 5, 5, 5, 4, 4, 4, 4, 4, 4, 4, 4, 4, 4, 4, 1, 1, 5, 2, 3, 2, 2, 3, 5, 5, 3, 5, 5, 5, 5, 5, 1, 5, 5, 4, 4, 4, 4, 4, 4, 4, 4, 4, 4, 5, 4, 1, 1, 5, 5, 5, 1, 2, 2, 5, 5, 5, 5, 5, 5, 5, 5, 5, 5, 5, 5, 5, 4, 3, 3, 3, 5, 4, 4, 4, 4, 5, 5, 3, 3, 1, 5, 5, 5, 5, 5, 4, 4, 4, 4, 5, 5, 5, 4, 1, 5, 5, 5, 5, 5, 5, 5, 5, 5, 5, 5, 5, 1, 5, 5, 4, 4, 4, 4, 1, 5, 5, 5, 5, 5, 5, 5, 5, 5, 2, 5, 5, 5, 5, 5, 4, 5, 5, 5, 5, 1, 4, 4, 4, 4, 4, 4, 4, 4, 4, 4, 4, 4, 4, 1, 5, 5, 5, 5, 5, 5, 5, 5, 4, 4, 4, 5, 1, 4, 4, 4, 4, 4, 4, 4, 4, 4, 4, 4, 4, 4, 4, 4, 4, 1, 5, 2, 5, 5, 5, 5, 5, 5, 5, 4, 4, 4, 4, 4, 4, 4, 4, 4, 4, 4, 4, 4, 4, 4, 3, 4, 1, 1, 5, 4, 4, 4, 4, 4, 2, 5, 5, 4, 4, 1, 4, 4, 4, 4, 4, 4, 4, 4, 4, 4, 4, 4, 4, 4, 4, 4, 4, 4, 4, 4, 4, 4, 4, 4, 4, 4, 5, 5, 5, 5, 5, 5, 5, 1, 5, 4, 3, 4, 4, 3, 4, 1, 1, 5, 5, 4, 5, 4, 4, 4, 4, 4, 4, 4, 4, 4, 4, 4, 4, 4, 4, 4, 4, 5, 4, 4, 4, 3, 4, 4, 4, 4, 4, 4, 4, 4, 4, 4, 4, 4, 4, 4, 2, 4, 4, 4, 1, 5, 5, 5, 4, 4, 4, 4, 4, 4, 4, 4, 4, 4, 4, 4, 4, 4, 4, 4, 4, 4, 4, 4, 4, 4, 2, 5, 5, 5, 5, 5, 5, 4, 4, 1, 5, 4, 4, 4, 4, 4, 4, 4, 1, 3, 5, 4, 3, 1, 5, 5, 5, 5, 5, 5, 5, 1, 1, 4, 2, 4, 4, 4, 4, 4, 4, 4, 3, 4, 4, 3, 4, 4, 4, 3, 4, 4, 3, 4, 3, 1, 5, 3, 5, 5, 1, 5, 5, 5, 4, 4, 4, 4, 4, 4, 4, 4, 4, 4, 4, 4, 4, 4, 4, 3, 4, 3, 1, 5, 5, 5, 5, 5, 5, 4, 5, 3, 5, 5, 5, 5, 1, 4, 4, 4, 4, 4, 4, 4, 4, 4, 4, 1, 4, 1, 5, 5, 5, 4, 4, 4, 4, 4, 4, 4, 4, 4, 4, 4, 4, 4, 4, 4, 4, 4, 4, 4, 4, 4, 4, 1, 5, 5, 5, 5, 5, 5, 5, 5, 5, 5, 5, 5, 5, 5, 5, 5, 4, 1, 5, 5, 4, 4, 4, 4, 4, 4, 4, 4, 4, 4, 4, 4, 4, 1, 1, 4, 4, 4, 4, 4, 4, 4, 4, 4, 1, 1, 5, 5, 1, 4, 4, 4, 4, 4, 4, 4, 4, 4, 4, 4, 4, 4, 4, 4, 3, 4, 4, 4, 4, 4, 4, 4, 4, 4, 4, 4, 4, 4, 4, 4, 4, 4, 4, 4, 4, 4, 4, 4, 4, 4, 4, 4, 4, 4, 4, 4, 4, 4, 4, 4, 4, 5, 5, 5, 5, 5, 5, 1, 5, 5, 4, 4, 4, 5, 4, 2, 5, 4, 4, 4, 1, 5, 5, 5, 5, 5, 4, 4, 4, 4, 4, 4, 4, 4, 4, 4, 4, 4, 4, 1, 5, 5, 5, 5, 4, 4, 4, 4, 4, 4, 4, 4, 4, 4, 3, 3, 4, 5, 1, 5, 5, 5, 4, 4, 4, 1, 4, 4, 4, 4, 4, 4, 4, 5, 4, 4, 4, 4, 4, 4, 4, 4, 4, 4, 4, 4, 4, 4, 4, 4, 4, 4, 4, 5, 5, 5, 5, 5, 5, 4, 1, 5, 5, 5, 5, 4, 4, 4, 4, 4, 4, 4, 4, 2, 4, 4, 4, 4, 4, 4, 1, 5, 5, 5, 5, 5, 5, 5, 4, 4, 5, 1, 2, 5, 4, 4, 4, 4, 4, 4, 4, 5, 4, 4, 4, 4, 4, 4, 4, 4, 3, 4, 4, 1, 5, 5, 5, 5, 5, 4, 4, 5, 2, 5, 5, 5, 5, 5, 5, 4, 4, 4, 4, 4, 4, 4, 4, 4, 4, 4, 4, 4, 2, 5, 5, 5, 4, 3, 4, 4, 4, 1, 5, 5, 5, 5, 5, 5, 5, 5, 4, 4, 1, 5, 5, 5, 5, 5, 5, 4, 3, 4, 4, 2, 4, 4, 3, 4, 3, 4, 3, 4, 3, 3, 3, 3, 3, 1, 5, 5, 5, 5, 2, 5, 5, 5, 4, 1, 5, 5, 5, 5, 5, 5, 5, 4, 4, 4, 4, 4, 4, 4, 4, 4, 4, 4, 4, 4, 3, 4, 4, 3, 3, 4, 4, 4, 5, 1, 5, 5, 2, 5, 5, 2, 5, 5, 5, 5, 4, 4, 4, 1, 5, 5, 5, 5, 5, 5, 4, 4, 4, 4, 4, 4, 4, 4, 4, 3, 4, 4, 4, 3, 4, 4, 4, 4, 3, 4, 4, 4, 4, 2, 5, 5]\n"
     ]
    }
   ],
   "source": [
    "print(y_testing1)"
   ]
  },
  {
   "cell_type": "code",
   "execution_count": 175,
   "metadata": {},
   "outputs": [
    {
     "name": "stdout",
     "output_type": "stream",
     "text": [
      "[[ 13   2  11  30  11]\n",
      " [  4   0   5   9   5]\n",
      " [  4   4   6  19  11]\n",
      " [107  42  86 252 103]\n",
      " [ 63  13  40 112  72]]\n"
     ]
    }
   ],
   "source": [
    "conf_mat = confusion_matrix(y_testing1, y_output)\n",
    "print(conf_mat)"
   ]
  },
  {
   "cell_type": "code",
   "execution_count": 176,
   "metadata": {},
   "outputs": [
    {
     "name": "stdout",
     "output_type": "stream",
     "text": [
      "33.49609375 %\n"
     ]
    }
   ],
   "source": [
    "accuracy=accuracy_score(y_output,y_testing1)\n",
    "print(accuracy*100,'%')"
   ]
  },
  {
   "cell_type": "code",
   "execution_count": null,
   "metadata": {},
   "outputs": [],
   "source": []
  }
 ],
 "metadata": {
  "kernelspec": {
   "display_name": "Python 3",
   "language": "python",
   "name": "python3"
  },
  "language_info": {
   "codemirror_mode": {
    "name": "ipython",
    "version": 3
   },
   "file_extension": ".py",
   "mimetype": "text/x-python",
   "name": "python",
   "nbconvert_exporter": "python",
   "pygments_lexer": "ipython3",
   "version": "3.6.4"
  }
 },
 "nbformat": 4,
 "nbformat_minor": 2
}
